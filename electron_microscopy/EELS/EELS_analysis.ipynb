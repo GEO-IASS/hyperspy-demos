{
 "cells": [
  {
   "cell_type": "markdown",
   "metadata": {},
   "source": [
    "# Hyperspy Tutorial"
   ]
  },
  {
   "cell_type": "markdown",
   "metadata": {},
   "source": [
    "## EELS analysis of perovskite oxides"
   ]
  },
  {
   "cell_type": "markdown",
   "metadata": {},
   "source": [
    "This tutorial shows the various functionalities in HyperSpy which is used to analyse Electron Energy Loss Spectroscopy data, using EELS datasets from perovskite oxide heterostructure.\n",
    "\n",
    "It assumes some knowledge on how to use HyperSpy, like loading datasets and how the basic signals work.\n",
    "\n",
    "This notebook requires:\n",
    "\n",
    "HyperSpy 0.8.5 and all dependencies "
   ]
  },
  {
   "cell_type": "markdown",
   "metadata": {},
   "source": [
    "## Author"
   ]
  },
  {
   "cell_type": "markdown",
   "metadata": {},
   "source": [
    "7/6/2016 Magnus Nord - Developed for HyperSpy workshop at Scandem conference 2016"
   ]
  },
  {
   "cell_type": "markdown",
   "metadata": {},
   "source": [
    "## Table of contents"
   ]
  },
  {
   "cell_type": "markdown",
   "metadata": {},
   "source": [
    "1. <a href='#spec_and_data'> Specimen & Data</a>\n",
    "2. <a href='#simple_quant'> Simple quantification</a>\n",
    "3. <a href='#curve_fitting_quant'> Curve fitting quantification</a>\n",
    "4. <a href='#fine_structure_analysis'> Fine structure analysis</a>\n",
    "5. <a href='#fine_structure_ok'> Fine structure oxygen-K edge</a>"
   ]
  },
  {
   "cell_type": "markdown",
   "metadata": {},
   "source": [
    "# <a id='spec_and_data'></a>1. Specimen & Data"
   ]
  },
  {
   "cell_type": "markdown",
   "metadata": {},
   "source": [
    "This notebook was used for the HyperSpy workshop at the Norwegian University of Science and Technology for the Scandem 2016 conference, 7 June 2016."
   ]
  },
  {
   "cell_type": "markdown",
   "metadata": {},
   "source": [
    "The data was acquired on a Jeol ARM200cF using a Gatan Quantum ER with DualEELS capabilites."
   ]
  },
  {
   "cell_type": "markdown",
   "metadata": {},
   "source": [
    "The data itself is from La0.7Sr0.3MnO3 thin films deposited on SrTiO3. In the Fine Structure example parts of the film has been exposed to a very long electron beam exposure, inducing oxygen vacancies."
   ]
  },
  {
   "cell_type": "markdown",
   "metadata": {},
   "source": [
    "The datasets has been binned to reduce the file size and processing time."
   ]
  },
  {
   "cell_type": "markdown",
   "metadata": {},
   "source": [
    "# <a id='simple_quant'></a> 2. Simple quantification\n"
   ]
  },
  {
   "cell_type": "markdown",
   "metadata": {},
   "source": [
    "Firstly we use some IPython magic to import the right plotting libraries, then import HyperSpy"
   ]
  },
  {
   "cell_type": "code",
   "execution_count": 1,
   "metadata": {
    "collapsed": true
   },
   "outputs": [],
   "source": [
    "%matplotlib qt4"
   ]
  },
  {
   "cell_type": "code",
   "execution_count": 2,
   "metadata": {
    "collapsed": false
   },
   "outputs": [
    {
     "name": "stderr",
     "output_type": "stream",
     "text": [
      "/home/magnunor/Documents/HyperSpy_project/HyperSpy/hyperspy/io_plugins/tiff.py:31: UserWarning: Failed to import the optional scikit image package. Loading of some compressed images will be slow.\n",
      "\n",
      "  \"Failed to import the optional scikit image package. \"\n"
     ]
    }
   ],
   "source": [
    "import hyperspy.api as hs"
   ]
  },
  {
   "cell_type": "markdown",
   "metadata": {},
   "source": [
    "First we take a look at an EELS line scan across an La0.7Sr0.3MnO3/SrTiO3 thin film. The core loss data has several peaks: Ti-L23, O-K, Mn-L23 and La-M54. We can navigate the line scan using the navigation window, and by moving the red line."
   ]
  },
  {
   "cell_type": "code",
   "execution_count": null,
   "metadata": {
    "collapsed": false
   },
   "outputs": [],
   "source": [
    "s = hs.load(\"datasets/LSMO_STO_linescan.hdf5\")"
   ]
  },
  {
   "cell_type": "code",
   "execution_count": null,
   "metadata": {
    "collapsed": false
   },
   "outputs": [],
   "source": [
    "s.plot()"
   ]
  },
  {
   "cell_type": "markdown",
   "metadata": {},
   "source": [
    "Now we can quantifiy the first edge (Ti-L23). Firstly by removing the background, then cropping the signal to only include the Ti-L23 edge"
   ]
  },
  {
   "cell_type": "code",
   "execution_count": null,
   "metadata": {
    "collapsed": false
   },
   "outputs": [],
   "source": [
    "s.remove_background()"
   ]
  },
  {
   "cell_type": "code",
   "execution_count": null,
   "metadata": {
    "collapsed": false
   },
   "outputs": [],
   "source": [
    "s.crop_spectrum()"
   ]
  },
  {
   "cell_type": "markdown",
   "metadata": {},
   "source": [
    "Note, both these functions replaced the old signals s."
   ]
  },
  {
   "cell_type": "markdown",
   "metadata": {},
   "source": [
    "We can also do this using only the command line, which does not replace the original signal:"
   ]
  },
  {
   "cell_type": "code",
   "execution_count": null,
   "metadata": {
    "collapsed": false
   },
   "outputs": [],
   "source": [
    "s = hs.load(\"datasets/LSMO_STO_linescan.hdf5\")"
   ]
  },
  {
   "cell_type": "code",
   "execution_count": null,
   "metadata": {
    "collapsed": false
   },
   "outputs": [],
   "source": [
    "s1 = s.remove_background(signal_range=(405.,448.))"
   ]
  },
  {
   "cell_type": "code",
   "execution_count": null,
   "metadata": {
    "collapsed": false
   },
   "outputs": [],
   "source": [
    "s2 = s1.isig[448.:480.]"
   ]
  },
  {
   "cell_type": "markdown",
   "metadata": {},
   "source": [
    "Then we can sum the energy loss axis to get the relative Ti-content"
   ]
  },
  {
   "cell_type": "code",
   "execution_count": null,
   "metadata": {
    "collapsed": false
   },
   "outputs": [],
   "source": [
    "s_ti = s2.sum(\"Energy loss\")"
   ]
  },
  {
   "cell_type": "code",
   "execution_count": null,
   "metadata": {
    "collapsed": false
   },
   "outputs": [],
   "source": [
    "s_ti.plot()"
   ]
  },
  {
   "cell_type": "markdown",
   "metadata": {},
   "source": [
    "# <a id='curve_fitting_quant'></a> 3. Curve fitting quantification"
   ]
  },
  {
   "cell_type": "markdown",
   "metadata": {},
   "source": [
    "Now, lets do some more advanced quantification using HyperSpy's extensive modelling framework. Firstly we load the low loss and core loss spectra."
   ]
  },
  {
   "cell_type": "markdown",
   "metadata": {},
   "source": [
    "Firstly we'll have to tell HyperSpy where to find the Hartree-Slater cross section files, since they are not included in HyperSpy. Go to the \"EELS\" tab, then \"Model\", then set \"GOS directory\" to the \"H-S GOS Tables\" folder"
   ]
  },
  {
   "cell_type": "code",
   "execution_count": null,
   "metadata": {
    "collapsed": true
   },
   "outputs": [],
   "source": [
    "hs.preferences.gui()"
   ]
  },
  {
   "cell_type": "code",
   "execution_count": 140,
   "metadata": {
    "collapsed": false
   },
   "outputs": [
    {
     "name": "stderr",
     "output_type": "stream",
     "text": [
      "/home/magnunor/Documents/HyperSpy_project/HyperSpy/hyperspy/signals.py:54: VisibleDeprecationWarning: The Spectrum class will be deprecated from version 1.0.0 and replaced with Signal1D\n",
      "  VisibleDeprecationWarning)\n"
     ]
    }
   ],
   "source": [
    "s_ll = hs.load(\"datasets/LSMO_STO_linescan_low_loss.hdf5\")"
   ]
  },
  {
   "cell_type": "code",
   "execution_count": 141,
   "metadata": {
    "collapsed": false
   },
   "outputs": [
    {
     "name": "stderr",
     "output_type": "stream",
     "text": [
      "/home/magnunor/Documents/HyperSpy_project/HyperSpy/hyperspy/signals.py:54: VisibleDeprecationWarning: The Spectrum class will be deprecated from version 1.0.0 and replaced with Signal1D\n",
      "  VisibleDeprecationWarning)\n"
     ]
    }
   ],
   "source": [
    "s = hs.load(\"datasets/LSMO_STO_linescan.hdf5\")"
   ]
  },
  {
   "cell_type": "markdown",
   "metadata": {},
   "source": [
    "Here, the metadata has been populated with some of the experimental parameters:"
   ]
  },
  {
   "cell_type": "code",
   "execution_count": 142,
   "metadata": {
    "collapsed": false
   },
   "outputs": [
    {
     "data": {
      "text/plain": [
       "├── Acquisition_instrument\n",
       "│   └── TEM\n",
       "│       ├── Detector\n",
       "│       │   └── EELS\n",
       "│       │       └── collection_angle = 33.100000000000001\n",
       "│       ├── beam_energy = 200.0\n",
       "│       ├── convergence_angle = 27.100000000000001\n",
       "│       └── dwell_time = 0.49990557338919173\n",
       "├── General\n",
       "│   ├── original_filename = LSMO_STO_linescan.dm3\n",
       "│   └── title = EELS Spectrum Image (high-loss)\n",
       "└── Signal\n",
       "    ├── binned = True\n",
       "    ├── record_by = spectrum\n",
       "    ├── signal_origin = \n",
       "    └── signal_type = EELS"
      ]
     },
     "execution_count": 142,
     "metadata": {},
     "output_type": "execute_result"
    }
   ],
   "source": [
    "s.metadata"
   ]
  },
  {
   "cell_type": "markdown",
   "metadata": {},
   "source": [
    "Firstly, we make sure the energy scale is properly aligned by using the zero loss peak in the low loss spectrum."
   ]
  },
  {
   "cell_type": "code",
   "execution_count": 143,
   "metadata": {
    "collapsed": false
   },
   "outputs": [
    {
     "name": "stdout",
     "output_type": "stream",
     "text": [
      "\n",
      "Initial ZLP position statistics\n",
      "-------------------------------\n",
      "Summary statistics\n",
      "------------------\n",
      "mean:\t-1.000\n",
      "std:\t0.000\n",
      "\n",
      "min:\t-1.000\n",
      "Q1:\t-1.000\n",
      "median:\t-1.000\n",
      "Q3:\t-1.000\n",
      "max:\t-1.000\n",
      " calculating 100% |#############################################| ETA:  00:00:00 \n",
      "\n",
      " calculating 100% |#############################################| ETA:  00:00:00 \n",
      "\n",
      " calculating 100% |#############################################| ETA:  00:00:00 \n",
      "\n",
      " calculating 100% |#############################################| ETA:  00:00:00 \n",
      "\n",
      " calculating 100% |#############################################| ETA:  00:00:00 \n",
      "\n"
     ]
    },
    {
     "name": "stderr",
     "output_type": "stream",
     "text": [
      "/home/magnunor/Documents/HyperSpy_project/HyperSpy/hyperspy/signals.py:54: VisibleDeprecationWarning: The Spectrum class will be deprecated from version 1.0.0 and replaced with Signal1D\n",
      "  VisibleDeprecationWarning)\n",
      "/home/magnunor/Documents/HyperSpy_project/HyperSpy/hyperspy/signals.py:132: VisibleDeprecationWarning: The Signal class will be deprecated from version 1.0.0 and replaced with BaseSignal\n",
      "  VisibleDeprecationWarning)\n"
     ]
    }
   ],
   "source": [
    "s_ll.align_zero_loss_peak(subpixel=True, also_align=[s])"
   ]
  },
  {
   "cell_type": "markdown",
   "metadata": {},
   "source": [
    "We have to add the elements which is present in the sample to `s`"
   ]
  },
  {
   "cell_type": "code",
   "execution_count": 144,
   "metadata": {
    "collapsed": true
   },
   "outputs": [],
   "source": [
    "s.add_elements(('Mn','O','Ti','La'))"
   ]
  },
  {
   "cell_type": "markdown",
   "metadata": {},
   "source": [
    "Then we make a model out of the core loss spectrum. The low loss spectrum is convolved with the model, which means plural scattering is automatically taken into account. In addition this leads to better fits."
   ]
  },
  {
   "cell_type": "code",
   "execution_count": 145,
   "metadata": {
    "collapsed": false
   },
   "outputs": [
    {
     "name": "stderr",
     "output_type": "stream",
     "text": [
      "/home/magnunor/Documents/HyperSpy_project/HyperSpy/hyperspy/models/eelsmodel.py:86: VisibleDeprecationWarning: Adding \"background\" to the user namespace. This feature will be removed in Hyperspy 1.0.\n",
      "  VisibleDeprecationWarning)\n",
      "/home/magnunor/Documents/HyperSpy_project/HyperSpy/hyperspy/signals.py:54: VisibleDeprecationWarning: The Spectrum class will be deprecated from version 1.0.0 and replaced with Signal1D\n",
      "  VisibleDeprecationWarning)\n",
      "/home/magnunor/Documents/HyperSpy_project/HyperSpy/hyperspy/signals.py:132: VisibleDeprecationWarning: The Signal class will be deprecated from version 1.0.0 and replaced with BaseSignal\n",
      "  VisibleDeprecationWarning)\n",
      "/home/magnunor/Documents/HyperSpy_project/HyperSpy/hyperspy/models/eelsmodel.py:188: VisibleDeprecationWarning: Adding \"Ti_L3\" to the user namespace. This feature will be removed in Hyperspy 1.0.\n",
      "  VisibleDeprecationWarning)\n",
      "/home/magnunor/Documents/HyperSpy_project/HyperSpy/hyperspy/models/eelsmodel.py:194: VisibleDeprecationWarning: Adding \"Ti\" to the user namespace. This feature will be removed in Hyperspy 1.0.\n",
      "  VisibleDeprecationWarning)\n",
      "/home/magnunor/Documents/HyperSpy_project/HyperSpy/hyperspy/models/eelsmodel.py:227: VisibleDeprecationWarning: Adding \"Ti_L2\" to the user namespace. This feature will be removed in Hyperspy 1.0.\n",
      "  VisibleDeprecationWarning)\n",
      "/home/magnunor/Documents/HyperSpy_project/HyperSpy/hyperspy/models/eelsmodel.py:227: VisibleDeprecationWarning: Adding \"Ti_L1\" to the user namespace. This feature will be removed in Hyperspy 1.0.\n",
      "  VisibleDeprecationWarning)\n",
      "/home/magnunor/Documents/HyperSpy_project/HyperSpy/hyperspy/models/eelsmodel.py:188: VisibleDeprecationWarning: Adding \"O_K\" to the user namespace. This feature will be removed in Hyperspy 1.0.\n",
      "  VisibleDeprecationWarning)\n",
      "/home/magnunor/Documents/HyperSpy_project/HyperSpy/hyperspy/models/eelsmodel.py:194: VisibleDeprecationWarning: Adding \"O\" to the user namespace. This feature will be removed in Hyperspy 1.0.\n",
      "  VisibleDeprecationWarning)\n",
      "/home/magnunor/Documents/HyperSpy_project/HyperSpy/hyperspy/models/eelsmodel.py:188: VisibleDeprecationWarning: Adding \"Mn_L3\" to the user namespace. This feature will be removed in Hyperspy 1.0.\n",
      "  VisibleDeprecationWarning)\n",
      "/home/magnunor/Documents/HyperSpy_project/HyperSpy/hyperspy/models/eelsmodel.py:194: VisibleDeprecationWarning: Adding \"Mn\" to the user namespace. This feature will be removed in Hyperspy 1.0.\n",
      "  VisibleDeprecationWarning)\n",
      "/home/magnunor/Documents/HyperSpy_project/HyperSpy/hyperspy/models/eelsmodel.py:227: VisibleDeprecationWarning: Adding \"Mn_L2\" to the user namespace. This feature will be removed in Hyperspy 1.0.\n",
      "  VisibleDeprecationWarning)\n",
      "/home/magnunor/Documents/HyperSpy_project/HyperSpy/hyperspy/models/eelsmodel.py:227: VisibleDeprecationWarning: Adding \"Mn_L1\" to the user namespace. This feature will be removed in Hyperspy 1.0.\n",
      "  VisibleDeprecationWarning)\n",
      "/home/magnunor/Documents/HyperSpy_project/HyperSpy/hyperspy/models/eelsmodel.py:188: VisibleDeprecationWarning: Adding \"La_M5\" to the user namespace. This feature will be removed in Hyperspy 1.0.\n",
      "  VisibleDeprecationWarning)\n",
      "/home/magnunor/Documents/HyperSpy_project/HyperSpy/hyperspy/models/eelsmodel.py:194: VisibleDeprecationWarning: Adding \"La\" to the user namespace. This feature will be removed in Hyperspy 1.0.\n",
      "  VisibleDeprecationWarning)\n"
     ]
    },
    {
     "name": "stdout",
     "output_type": "stream",
     "text": [
      "\n",
      "Hartree-Slater GOS\n",
      "\tElement:  Ti\n",
      "\tSubshell:  L3\n",
      "\tOnset Energy =  456.0\n",
      "\n",
      "Hartree-Slater GOS\n",
      "\tElement:  Ti\n",
      "\tSubshell:  L2\n",
      "\tOnset Energy =  462.0\n",
      "\n",
      "Hartree-Slater GOS\n",
      "\tElement:  Ti\n",
      "\tSubshell:  L1\n",
      "\tOnset Energy =  564.0\n",
      "\n",
      "Hartree-Slater GOS\n",
      "\tElement:  O\n",
      "\tSubshell:  K\n",
      "\tOnset Energy =  532.0\n",
      "\n",
      "Hartree-Slater GOS\n",
      "\tElement:  Mn\n",
      "\tSubshell:  L3\n",
      "\tOnset Energy =  640.0\n",
      "\n",
      "Hartree-Slater GOS\n",
      "\tElement:  Mn\n",
      "\tSubshell:  L2\n",
      "\tOnset Energy =  651.0\n",
      "\n",
      "Hartree-Slater GOS\n",
      "\tElement:  Mn\n",
      "\tSubshell:  L1\n",
      "\tOnset Energy =  769.0\n",
      "\n",
      "Hartree-Slater GOS\n",
      "\tElement:  La\n",
      "\tSubshell:  M5\n",
      "\tOnset Energy =  832.0\n",
      "\n",
      "Hartree-Slater GOS\n",
      "\tElement:  La\n",
      "\tSubshell:  M4\n",
      "\tOnset Energy =  849.0\n"
     ]
    },
    {
     "name": "stderr",
     "output_type": "stream",
     "text": [
      "/home/magnunor/Documents/HyperSpy_project/HyperSpy/hyperspy/models/eelsmodel.py:227: VisibleDeprecationWarning: Adding \"La_M4\" to the user namespace. This feature will be removed in Hyperspy 1.0.\n",
      "  VisibleDeprecationWarning)\n"
     ]
    }
   ],
   "source": [
    "m = s.create_model(ll=s_ll)"
   ]
  },
  {
   "cell_type": "markdown",
   "metadata": {},
   "source": [
    "The model new consist of many different EELSCLEdge components, including a component for the plasmon background"
   ]
  },
  {
   "cell_type": "code",
   "execution_count": 146,
   "metadata": {
    "collapsed": false
   },
   "outputs": [
    {
     "data": {
      "text/plain": [
       "   # |            Attribute Name |            Component Name |            Component Type\n",
       "---- | ------------------------- | ------------------------- | -------------------------\n",
       "   0 |                background |                background |                  PowerLaw\n",
       "   1 |                     Ti_L3 |                     Ti_L3 |                EELSCLEdge\n",
       "   2 |                     Ti_L2 |                     Ti_L2 |                EELSCLEdge\n",
       "   3 |                     Ti_L1 |                     Ti_L1 |                EELSCLEdge\n",
       "   4 |                       O_K |                       O_K |                EELSCLEdge\n",
       "   5 |                     Mn_L3 |                     Mn_L3 |                EELSCLEdge\n",
       "   6 |                     Mn_L2 |                     Mn_L2 |                EELSCLEdge\n",
       "   7 |                     Mn_L1 |                     Mn_L1 |                EELSCLEdge\n",
       "   8 |                     La_M5 |                     La_M5 |                EELSCLEdge\n",
       "   9 |                     La_M4 |                     La_M4 |                EELSCLEdge"
      ]
     },
     "execution_count": 146,
     "metadata": {},
     "output_type": "execute_result"
    }
   ],
   "source": [
    "m.components"
   ]
  },
  {
   "cell_type": "markdown",
   "metadata": {},
   "source": [
    "We can fit the model to the experimental data by using the `multifit` function, with the `smart` fitting. Which is fits in a way optimized for EELS data, by fitting from the lowest to the highest energy losses."
   ]
  },
  {
   "cell_type": "code",
   "execution_count": 147,
   "metadata": {
    "collapsed": false
   },
   "outputs": [
    {
     "name": "stdout",
     "output_type": "stream",
     "text": [
      " calculating 100% |#############################################| ETA:  00:00:00 \n",
      "\n"
     ]
    }
   ],
   "source": [
    "m.multifit(kind='smart')"
   ]
  },
  {
   "cell_type": "code",
   "execution_count": 159,
   "metadata": {
    "collapsed": false
   },
   "outputs": [],
   "source": [
    "m.plot()"
   ]
  },
  {
   "cell_type": "markdown",
   "metadata": {},
   "source": [
    "We can check the error of the fitting"
   ]
  },
  {
   "cell_type": "code",
   "execution_count": 160,
   "metadata": {
    "collapsed": true
   },
   "outputs": [],
   "source": [
    "edges = (\"Ti_L3\", \"La_M5\", \"Mn_L3\",\"O_K\")"
   ]
  },
  {
   "cell_type": "code",
   "execution_count": 161,
   "metadata": {
    "collapsed": false
   },
   "outputs": [
    {
     "name": "stderr",
     "output_type": "stream",
     "text": [
      "/usr/lib/python3/dist-packages/matplotlib/__init__.py:894: UserWarning: axes.color_cycle is deprecated and replaced with axes.prop_cycle; please use the latter.\n",
      "  warnings.warn(self.msg_depr % (key, alt_key))\n"
     ]
    },
    {
     "data": {
      "text/plain": [
       "<matplotlib.axes._subplots.AxesSubplot at 0x7fd3fdc454e0>"
      ]
     },
     "execution_count": 161,
     "metadata": {},
     "output_type": "execute_result"
    }
   ],
   "source": [
    "hs.plot.plot_spectra([m[edge].intensity.as_signal(\"std\") for edge in edges], legend=edges)"
   ]
  },
  {
   "cell_type": "markdown",
   "metadata": {},
   "source": [
    "This fitted mostly ok, but it is still not very good. Firstly we can move the Hartree-Slater onsets interactively"
   ]
  },
  {
   "cell_type": "code",
   "execution_count": null,
   "metadata": {
    "collapsed": false
   },
   "outputs": [],
   "source": [
    "m.enable_adjust_position()"
   ]
  },
  {
   "cell_type": "markdown",
   "metadata": {},
   "source": [
    "Or manually, by directly changing the parameters within the Hartree-Slater edges. The parameter is called onset_energy"
   ]
  },
  {
   "cell_type": "code",
   "execution_count": 149,
   "metadata": {
    "collapsed": true
   },
   "outputs": [],
   "source": [
    "m.components.O_K.onset_energy.value = 528"
   ]
  },
  {
   "cell_type": "markdown",
   "metadata": {},
   "source": [
    "However, to change it for all the probe positions we have to use assign_current_value_to_all()"
   ]
  },
  {
   "cell_type": "code",
   "execution_count": 150,
   "metadata": {
    "collapsed": true
   },
   "outputs": [],
   "source": [
    "m.components.O_K.onset_energy.assign_current_value_to_all()"
   ]
  },
  {
   "cell_type": "markdown",
   "metadata": {},
   "source": [
    "We repeat this for the Manganese edges. Since this is an L-edge, there are 3 different ones. However, we only have to set the Mn-L3: the L2 and L1 is a set to an energy relative to the L3."
   ]
  },
  {
   "cell_type": "code",
   "execution_count": 151,
   "metadata": {
    "collapsed": false
   },
   "outputs": [
    {
     "data": {
      "text/plain": [
       "640.0"
      ]
     },
     "execution_count": 151,
     "metadata": {},
     "output_type": "execute_result"
    }
   ],
   "source": [
    "m.components.Mn_L3.onset_energy.value"
   ]
  },
  {
   "cell_type": "code",
   "execution_count": 152,
   "metadata": {
    "collapsed": false
   },
   "outputs": [
    {
     "data": {
      "text/plain": [
       "651.0"
      ]
     },
     "execution_count": 152,
     "metadata": {},
     "output_type": "execute_result"
    }
   ],
   "source": [
    "m.components.Mn_L2.onset_energy.value"
   ]
  },
  {
   "cell_type": "code",
   "execution_count": 153,
   "metadata": {
    "collapsed": false
   },
   "outputs": [],
   "source": [
    "m.components.Mn_L3.onset_energy.value = 638.5"
   ]
  },
  {
   "cell_type": "code",
   "execution_count": 154,
   "metadata": {
    "collapsed": false
   },
   "outputs": [
    {
     "data": {
      "text/plain": [
       "649.5"
      ]
     },
     "execution_count": 154,
     "metadata": {},
     "output_type": "execute_result"
    }
   ],
   "source": [
    "m.components.Mn_L2.onset_energy.value "
   ]
  },
  {
   "cell_type": "code",
   "execution_count": 155,
   "metadata": {
    "collapsed": true
   },
   "outputs": [],
   "source": [
    "m.components.Mn_L3.onset_energy.assign_current_value_to_all()"
   ]
  },
  {
   "cell_type": "markdown",
   "metadata": {},
   "source": [
    "This is due to the fine structure not currently taken into account by the model. To get a good fit, we can either not fit to the fine structure regions, or model them somehow.\n",
    "The easiest way is defining certain regions as fine structure:"
   ]
  },
  {
   "cell_type": "code",
   "execution_count": 156,
   "metadata": {
    "collapsed": false
   },
   "outputs": [
    {
     "name": "stdout",
     "output_type": "stream",
     "text": [
      "Automatically changing the fine structure width of edge 1 from 30.0 eV to 4.0 eV to avoid conflicts with edge number 2\n",
      "Automatically changing the fine structure width of edge 5 from 30.0 eV to 9.0 eV to avoid conflicts with edge number 6\n",
      "Automatically changing the fine structure width of edge 8 from 30.0 eV to 15.0 eV to avoid conflicts with edge number 9\n"
     ]
    }
   ],
   "source": [
    "m.enable_fine_structure()"
   ]
  },
  {
   "cell_type": "markdown",
   "metadata": {},
   "source": [
    "This will produce a much better fit, but will be much slower (~2 minutes)."
   ]
  },
  {
   "cell_type": "code",
   "execution_count": 157,
   "metadata": {
    "collapsed": false
   },
   "outputs": [
    {
     "name": "stdout",
     "output_type": "stream",
     "text": [
      "\r",
      " calculating   0% |                                             | ETA:  --:--:-- "
     ]
    },
    {
     "name": "stderr",
     "output_type": "stream",
     "text": [
      "/home/magnunor/Documents/HyperSpy_project/HyperSpy/hyperspy/model.py:1254: RuntimeWarning: invalid value encountered in sqrt\n",
      "  self.p_std = np.sqrt(np.diag(pcov))\n"
     ]
    },
    {
     "name": "stdout",
     "output_type": "stream",
     "text": [
      " calculating 100% |#############################################| ETA:  00:00:00 \n",
      "\n"
     ]
    }
   ],
   "source": [
    "m.multifit(kind='smart')"
   ]
  },
  {
   "cell_type": "markdown",
   "metadata": {},
   "source": [
    "Now the fit is much better, due to the model taking into account the fine structure."
   ]
  },
  {
   "cell_type": "code",
   "execution_count": 134,
   "metadata": {
    "collapsed": false
   },
   "outputs": [],
   "source": [
    "m.plot()"
   ]
  },
  {
   "cell_type": "markdown",
   "metadata": {},
   "source": [
    "Now we can can have a look at the relative intensity from the individual EELS-edges using plot_spectra"
   ]
  },
  {
   "cell_type": "code",
   "execution_count": 122,
   "metadata": {
    "collapsed": true
   },
   "outputs": [],
   "source": [
    "edges = (\"Ti_L3\", \"La_M5\", \"Mn_L3\",\"O_K\")"
   ]
  },
  {
   "cell_type": "code",
   "execution_count": 123,
   "metadata": {
    "collapsed": false
   },
   "outputs": [
    {
     "name": "stderr",
     "output_type": "stream",
     "text": [
      "/usr/lib/python3/dist-packages/matplotlib/__init__.py:894: UserWarning: axes.color_cycle is deprecated and replaced with axes.prop_cycle; please use the latter.\n",
      "  warnings.warn(self.msg_depr % (key, alt_key))\n"
     ]
    },
    {
     "data": {
      "text/plain": [
       "<matplotlib.axes._subplots.AxesSubplot at 0x7fd3fdc10c88>"
      ]
     },
     "execution_count": 123,
     "metadata": {},
     "output_type": "execute_result"
    }
   ],
   "source": [
    "hs.plot.plot_spectra([m[edge].intensity.as_signal() for edge in edges], legend=edges)"
   ]
  },
  {
   "cell_type": "markdown",
   "metadata": {},
   "source": [
    "While the fitting looks nice, we can clearly improve this. Firstly the intensites are negative where it should be zero. Secondly, the fine structure regions can be fine tuned. Especially the Mn-L1 fine structure window can be reduced"
   ]
  },
  {
   "cell_type": "code",
   "execution_count": 124,
   "metadata": {
    "collapsed": false
   },
   "outputs": [],
   "source": [
    "m.components.Mn_L1.fine_structure_width = 15"
   ]
  },
  {
   "cell_type": "markdown",
   "metadata": {},
   "source": [
    "To avoid the negative values we use bounded fitting, where we can constrain the parametern values between certain values. The bmin and bmax properties in the parameters are used for this."
   ]
  },
  {
   "cell_type": "code",
   "execution_count": 125,
   "metadata": {
    "collapsed": true
   },
   "outputs": [],
   "source": [
    "m.components.Mn_L3.intensity.bmin = 0.0"
   ]
  },
  {
   "cell_type": "code",
   "execution_count": 126,
   "metadata": {
    "collapsed": true
   },
   "outputs": [],
   "source": [
    "m.components.La_M5.intensity.bmin = 0.0"
   ]
  },
  {
   "cell_type": "code",
   "execution_count": 127,
   "metadata": {
    "collapsed": true
   },
   "outputs": [],
   "source": [
    "m.components.Ti_L3.intensity.bmin = 0.0"
   ]
  },
  {
   "cell_type": "code",
   "execution_count": 128,
   "metadata": {
    "collapsed": true
   },
   "outputs": [],
   "source": [
    "m.components.O_K.intensity.bmin = 0.0"
   ]
  },
  {
   "cell_type": "markdown",
   "metadata": {},
   "source": [
    "Then we use the fitter='mpfit' and bounded=True arguments when running the multifitter"
   ]
  },
  {
   "cell_type": "code",
   "execution_count": 135,
   "metadata": {
    "collapsed": true
   },
   "outputs": [],
   "source": [
    "m.disable_fine_structure()"
   ]
  },
  {
   "cell_type": "code",
   "execution_count": 136,
   "metadata": {
    "collapsed": false
   },
   "outputs": [],
   "source": [
    "m.ensure_parameters_in_bounds()"
   ]
  },
  {
   "cell_type": "code",
   "execution_count": 137,
   "metadata": {
    "collapsed": false,
    "scrolled": false
   },
   "outputs": [
    {
     "name": "stdout",
     "output_type": "stream",
     "text": [
      " calculating 100% |#############################################| ETA:  00:00:00 \n",
      "\n"
     ]
    }
   ],
   "source": [
    "m.multifit(kind='smart', fitter='mpfit', bounded=True)"
   ]
  },
  {
   "cell_type": "code",
   "execution_count": 138,
   "metadata": {
    "collapsed": true
   },
   "outputs": [],
   "source": [
    "m.plot()"
   ]
  },
  {
   "cell_type": "code",
   "execution_count": 133,
   "metadata": {
    "collapsed": false
   },
   "outputs": [
    {
     "name": "stderr",
     "output_type": "stream",
     "text": [
      "/usr/lib/python3/dist-packages/matplotlib/__init__.py:894: UserWarning: axes.color_cycle is deprecated and replaced with axes.prop_cycle; please use the latter.\n",
      "  warnings.warn(self.msg_depr % (key, alt_key))\n"
     ]
    },
    {
     "data": {
      "text/plain": [
       "<matplotlib.axes._subplots.AxesSubplot at 0x7fd3fe75b390>"
      ]
     },
     "execution_count": 133,
     "metadata": {},
     "output_type": "execute_result"
    }
   ],
   "source": [
    "hs.plot.plot_spectra([m[edge].intensity.as_signal() for edge in edges], legend=edges)"
   ]
  },
  {
   "cell_type": "markdown",
   "metadata": {},
   "source": [
    "# <a id='fine_structure_analysis'></a> 4. Fine structure analysis"
   ]
  },
  {
   "cell_type": "markdown",
   "metadata": {},
   "source": [
    "Here we take a look at a linescan from a La0.7Sr0.3MnO3 thin film, where parts of the film has been bombarded with the electron beam for an extended time."
   ]
  },
  {
   "cell_type": "code",
   "execution_count": null,
   "metadata": {
    "collapsed": false
   },
   "outputs": [],
   "source": [
    "s = hs.load(\"datasets/LSMO_linescan.hdf5\")"
   ]
  },
  {
   "cell_type": "markdown",
   "metadata": {},
   "source": [
    "Using the moving the red line in the there is clearly something going on in the middle on both the oxygen and the manganese edges. In addition, there are some thickness changes during the line scan."
   ]
  },
  {
   "cell_type": "code",
   "execution_count": null,
   "metadata": {
    "collapsed": false
   },
   "outputs": [],
   "source": [
    "s.plot()"
   ]
  },
  {
   "cell_type": "markdown",
   "metadata": {},
   "source": [
    "Using the low loss signal, we make sure the energy scale is properly calibrated"
   ]
  },
  {
   "cell_type": "code",
   "execution_count": null,
   "metadata": {
    "collapsed": true
   },
   "outputs": [],
   "source": [
    "s_ll = hs.load(\"datasets/LSMO_linescan_low_loss.hdf5\")"
   ]
  },
  {
   "cell_type": "code",
   "execution_count": null,
   "metadata": {
    "collapsed": true
   },
   "outputs": [],
   "source": [
    "s_ll.plot()"
   ]
  },
  {
   "cell_type": "markdown",
   "metadata": {},
   "source": [
    "The zero loss peak is not well aligned at 0 eV energy loss, so we should align it and the core loss"
   ]
  },
  {
   "cell_type": "code",
   "execution_count": null,
   "metadata": {
    "collapsed": false
   },
   "outputs": [],
   "source": [
    "s_ll.align_zero_loss_peak(subpixel=True, also_align=[s])"
   ]
  },
  {
   "cell_type": "markdown",
   "metadata": {},
   "source": [
    "Now the zero loss peak has been shifted to 0 energy loss, and likewise the core loss spectrum `s` has also been aligned"
   ]
  },
  {
   "cell_type": "code",
   "execution_count": null,
   "metadata": {
    "collapsed": true
   },
   "outputs": [],
   "source": [
    "s_ll.plot()"
   ]
  },
  {
   "cell_type": "markdown",
   "metadata": {},
   "source": [
    "We can also calculate the relative thickness using the low loss. We'll have to specify the end of the zero loss beam, which for cold field emissions guns 3.0 eV seems to work well."
   ]
  },
  {
   "cell_type": "code",
   "execution_count": null,
   "metadata": {
    "collapsed": true
   },
   "outputs": [],
   "source": [
    "s_thickness = s_ll.estimate_thickness(threshold=3.0)"
   ]
  },
  {
   "cell_type": "markdown",
   "metadata": {},
   "source": [
    "This gives the relative thickness and, as expected, there is an increase towards the end of the line scan"
   ]
  },
  {
   "cell_type": "code",
   "execution_count": null,
   "metadata": {
    "collapsed": true
   },
   "outputs": [],
   "source": [
    "s_thickness.plot()"
   ]
  },
  {
   "cell_type": "markdown",
   "metadata": {},
   "source": [
    "# <a id='fine_structure_ok'></a> 5. Fine structure: oxygen K-edge\n",
    "Lets take a closer look at the oxygen-K edge, firstly by removing the plasmon background, then cropping the spectrum to only include the oxygen-K edge. Note: this will overwrite the `s` spectrum with the cropped one. "
   ]
  },
  {
   "cell_type": "code",
   "execution_count": null,
   "metadata": {
    "collapsed": false
   },
   "outputs": [],
   "source": [
    "s.remove_background()"
   ]
  },
  {
   "cell_type": "code",
   "execution_count": null,
   "metadata": {
    "collapsed": false
   },
   "outputs": [],
   "source": [
    "s.crop_spectrum()"
   ]
  },
  {
   "cell_type": "markdown",
   "metadata": {},
   "source": [
    "This makes it much easier to compare the different positions. Pressing 'e' with the spectrum window highlighted gives a second spectrum picker, which can be moved independently of the first one"
   ]
  },
  {
   "cell_type": "markdown",
   "metadata": {},
   "source": [
    "We can then do fourier ratio deconvolution to remove the effects of plural scattering"
   ]
  },
  {
   "cell_type": "code",
   "execution_count": null,
   "metadata": {
    "collapsed": false
   },
   "outputs": [],
   "source": [
    "s_deconvolved = s.fourier_ratio_deconvolution(s_ll)"
   ]
  },
  {
   "cell_type": "code",
   "execution_count": null,
   "metadata": {
    "collapsed": true
   },
   "outputs": [],
   "source": [
    "s_deconvolved.plot()"
   ]
  },
  {
   "cell_type": "markdown",
   "metadata": {},
   "source": [
    "### Fine structure modelling"
   ]
  },
  {
   "cell_type": "markdown",
   "metadata": {},
   "source": [
    "Having had a qualitativily look at the data, we can try to quantify some of these changes. We do this by making making a model of the oxygen-K edge signal. As we've already removed the background, we set `auto_background=False`."
   ]
  },
  {
   "cell_type": "code",
   "execution_count": null,
   "metadata": {
    "collapsed": true
   },
   "outputs": [],
   "source": [
    "m = s.create_model(ll=s_ll, auto_background=False)"
   ]
  },
  {
   "cell_type": "markdown",
   "metadata": {},
   "source": [
    "So currently, the model does not contain any components"
   ]
  },
  {
   "cell_type": "code",
   "execution_count": null,
   "metadata": {
    "collapsed": false
   },
   "outputs": [],
   "source": [
    "m.components"
   ]
  },
  {
   "cell_type": "markdown",
   "metadata": {},
   "source": [
    "We can try to model some of the fine structure with Gaussians"
   ]
  },
  {
   "cell_type": "code",
   "execution_count": null,
   "metadata": {
    "collapsed": true
   },
   "outputs": [],
   "source": [
    "g1 = hs.model.components.Gaussian()"
   ]
  },
  {
   "cell_type": "code",
   "execution_count": null,
   "metadata": {
    "collapsed": false
   },
   "outputs": [],
   "source": [
    "m.append(g1)"
   ]
  },
  {
   "cell_type": "markdown",
   "metadata": {},
   "source": [
    "This added the gaussian component to the model"
   ]
  },
  {
   "cell_type": "code",
   "execution_count": null,
   "metadata": {
    "collapsed": false
   },
   "outputs": [],
   "source": [
    "m.components"
   ]
  },
  {
   "cell_type": "markdown",
   "metadata": {},
   "source": [
    "Then we can fit this Gaussian to the largest of the O-K peaks by dragging a span over the peak between 528 and 533 eV. Run it first with the \"Only Current\" option ticked, then run it without to fit the whole dataset"
   ]
  },
  {
   "cell_type": "code",
   "execution_count": null,
   "metadata": {
    "collapsed": false
   },
   "outputs": [],
   "source": [
    "m.fit_component(g1)"
   ]
  },
  {
   "cell_type": "markdown",
   "metadata": {},
   "source": [
    "Having fitted the Gaussian to the experimental data, we can plot how the Gaussian three parameters change over the line scan: A, sigma and centre. The A changes quite a bit, which is probably (among others) related to thickness changes. However, there are clear changes in the sigma parameter in the region with the electron beam damage"
   ]
  },
  {
   "cell_type": "code",
   "execution_count": null,
   "metadata": {
    "collapsed": true
   },
   "outputs": [],
   "source": [
    "g1.plot()"
   ]
  },
  {
   "cell_type": "markdown",
   "metadata": {},
   "source": [
    "Using the same method we can also fit the second largest peak between 535 and 541 eV"
   ]
  },
  {
   "cell_type": "code",
   "execution_count": null,
   "metadata": {
    "collapsed": true
   },
   "outputs": [],
   "source": [
    "g2 = hs.model.components.Gaussian()"
   ]
  },
  {
   "cell_type": "code",
   "execution_count": null,
   "metadata": {
    "collapsed": false
   },
   "outputs": [],
   "source": [
    "m.append(g2)"
   ]
  },
  {
   "cell_type": "code",
   "execution_count": null,
   "metadata": {
    "collapsed": false
   },
   "outputs": [],
   "source": [
    "m.fit_component(g2)"
   ]
  },
  {
   "cell_type": "markdown",
   "metadata": {},
   "source": [
    "However, this time the final fit does not look very good. This is due to the two components being fitted independently of eachother. We should fit both of them at the same time. Firstly, we have to set the `signal_range` which is where the model will fit to the experimental data. Here we select the region spanning the two major peaks (528-541 eV)"
   ]
  },
  {
   "cell_type": "code",
   "execution_count": null,
   "metadata": {
    "collapsed": true
   },
   "outputs": [],
   "source": [
    "m.set_signal_range()"
   ]
  },
  {
   "cell_type": "code",
   "execution_count": null,
   "metadata": {
    "collapsed": false
   },
   "outputs": [],
   "source": [
    "m.multifit()"
   ]
  },
  {
   "cell_type": "markdown",
   "metadata": {},
   "source": [
    "After fitting, we reset the signal range so we can see the full range of the signal"
   ]
  },
  {
   "cell_type": "code",
   "execution_count": null,
   "metadata": {
    "collapsed": true
   },
   "outputs": [],
   "source": [
    "m.reset_signal_range()"
   ]
  },
  {
   "cell_type": "code",
   "execution_count": null,
   "metadata": {
    "collapsed": true
   },
   "outputs": [],
   "source": [
    "m.plot()"
   ]
  },
  {
   "cell_type": "markdown",
   "metadata": {},
   "source": [
    "Lastly, we can fit the small \"pre-peak\" as well. First we \"lock\" the two Gaussian we have already fitted."
   ]
  },
  {
   "cell_type": "code",
   "execution_count": null,
   "metadata": {
    "collapsed": true
   },
   "outputs": [],
   "source": [
    "g1.set_parameters_not_free()"
   ]
  },
  {
   "cell_type": "code",
   "execution_count": null,
   "metadata": {
    "collapsed": true
   },
   "outputs": [],
   "source": [
    "g2.set_parameters_not_free()"
   ]
  },
  {
   "cell_type": "markdown",
   "metadata": {},
   "source": [
    "Then we add another Gaussian, and fit it using `fit_component` between 522 and 527 eV"
   ]
  },
  {
   "cell_type": "code",
   "execution_count": null,
   "metadata": {
    "collapsed": true
   },
   "outputs": [],
   "source": [
    "g3 = hs.model.components.Gaussian()"
   ]
  },
  {
   "cell_type": "code",
   "execution_count": null,
   "metadata": {
    "collapsed": false
   },
   "outputs": [],
   "source": [
    "m.append(g3)"
   ]
  },
  {
   "cell_type": "code",
   "execution_count": null,
   "metadata": {
    "collapsed": false
   },
   "outputs": [],
   "source": [
    "m.fit_component(g3)"
   ]
  },
  {
   "cell_type": "markdown",
   "metadata": {},
   "source": [
    "Then we set the signal range to cover all the three peaks, from 520 eV to 541 eV"
   ]
  },
  {
   "cell_type": "code",
   "execution_count": null,
   "metadata": {
    "collapsed": true
   },
   "outputs": [],
   "source": [
    "m.set_signal_range()"
   ]
  },
  {
   "cell_type": "code",
   "execution_count": null,
   "metadata": {
    "collapsed": false
   },
   "outputs": [],
   "source": [
    "m.multifit()"
   ]
  },
  {
   "cell_type": "markdown",
   "metadata": {},
   "source": [
    "This fits all the three components to the experimental data, which hopefully gives a good fit"
   ]
  },
  {
   "cell_type": "code",
   "execution_count": null,
   "metadata": {
    "collapsed": true
   },
   "outputs": [],
   "source": [
    "m.reset_signal_range()"
   ]
  },
  {
   "cell_type": "code",
   "execution_count": null,
   "metadata": {
    "collapsed": false
   },
   "outputs": [],
   "source": [
    "m.plot()"
   ]
  },
  {
   "cell_type": "markdown",
   "metadata": {},
   "source": [
    "Then we can save the sigma of the different components as signals:"
   ]
  },
  {
   "cell_type": "code",
   "execution_count": null,
   "metadata": {
    "collapsed": true
   },
   "outputs": [],
   "source": [
    "s_g1s = g1.sigma.as_signal()"
   ]
  },
  {
   "cell_type": "code",
   "execution_count": null,
   "metadata": {
    "collapsed": true
   },
   "outputs": [],
   "source": [
    "s_g2s = g2.sigma.as_signal()"
   ]
  },
  {
   "cell_type": "code",
   "execution_count": null,
   "metadata": {
    "collapsed": true
   },
   "outputs": [],
   "source": [
    "s_g3s = g3.sigma.as_signal()"
   ]
  }
 ],
 "metadata": {
  "kernelspec": {
   "display_name": "Python 3",
   "language": "python",
   "name": "python3"
  },
  "language_info": {
   "codemirror_mode": {
    "name": "ipython",
    "version": 3
   },
   "file_extension": ".py",
   "mimetype": "text/x-python",
   "name": "python",
   "nbconvert_exporter": "python",
   "pygments_lexer": "ipython3",
   "version": "3.5.1+"
  }
 },
 "nbformat": 4,
 "nbformat_minor": 0
}
