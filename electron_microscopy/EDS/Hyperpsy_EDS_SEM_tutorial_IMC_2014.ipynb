{
 "metadata": {
  "name": "",
  "signature": "sha256:d42d96360ecac2276184e3d8febb2882f20aecddc7359b3410763c4e4d0f573b"
 },
 "nbformat": 3,
 "nbformat_minor": 0,
 "worksheets": [
  {
   "cells": [
    {
     "cell_type": "heading",
     "level": 1,
     "metadata": {},
     "source": [
      "Hyperspy Tutorial: processing of EDS mapping "
     ]
    },
    {
     "cell_type": "heading",
     "level": 6,
     "metadata": {},
     "source": [
      "Requirement"
     ]
    },
    {
     "cell_type": "markdown",
     "metadata": {},
     "source": [
      "Hyperspy 0.7.3"
     ]
    },
    {
     "cell_type": "heading",
     "level": 6,
     "metadata": {},
     "source": [
      "Notebook"
     ]
    },
    {
     "cell_type": "markdown",
     "metadata": {},
     "source": [
      "Notebook used for the Hyperspy training at IMC 2014, Pragues 7 September 2014."
     ]
    },
    {
     "cell_type": "heading",
     "level": 6,
     "metadata": {},
     "source": [
      "Data"
     ]
    },
    {
     "cell_type": "markdown",
     "metadata": {},
     "source": [
      "The sample and the data used in this tutorial are described in \n",
      "P. Burdet, et al., Acta Materialia, 61, p. 3090-3098 (2013) (see http://infoscience.epfl.ch/record/185861/)."
     ]
    },
    {
     "cell_type": "code",
     "collapsed": false,
     "input": [
      "#Download the data locally\n",
      "from urllib import urlretrieve\n",
      "filename= ['TiFeNi_0'+str(i)+'.rpl' for i in range(10,15)] + \\\n",
      "          ['TiFeNi_0'+str(i)+'.raw' for i in range(10,15)] + \\\n",
      "          ['image0'+str(i)+'.tif' for i in range(10,15)] + ['1pix.msa']    \n",
      "[urlretrieve('http://cook.msm.cam.ac.uk//~pb565//EDS_tutorial//' + fname, fname) for fname in filename]"
     ],
     "language": "python",
     "metadata": {},
     "outputs": []
    },
    {
     "cell_type": "markdown",
     "metadata": {},
     "source": [
      "The data were acquired during a 3D EDS/SEM experiment. The data are exported from INCA software (Oxford instrument). The \".msa\" file contains a single spectrum and the metadata to calibrate it. The \".rpl\" is a header to read the \".raw\". Each \".raw\" file contains an EDS/SEM spectral image, acquired at different milled thicknesses (depth or z axis) with a FIB/SEM (Nvision40 Zeiss). The \".tiff\" files contains the corresponding SE images."
     ]
    },
    {
     "cell_type": "heading",
     "level": 6,
     "metadata": {},
     "source": [
      "Author"
     ]
    },
    {
     "cell_type": "markdown",
     "metadata": {},
     "source": [
      "Pierre Burdet"
     ]
    },
    {
     "cell_type": "heading",
     "level": 2,
     "metadata": {},
     "source": [
      "2D Spectrum Image"
     ]
    },
    {
     "cell_type": "heading",
     "level": 3,
     "metadata": {},
     "source": [
      "loading"
     ]
    },
    {
     "cell_type": "code",
     "collapsed": false,
     "input": [
      "specImg = load(\"TiFeNi_010.rpl\")"
     ],
     "language": "python",
     "metadata": {},
     "outputs": []
    },
    {
     "cell_type": "code",
     "collapsed": true,
     "input": [
      "specImg"
     ],
     "language": "python",
     "metadata": {},
     "outputs": []
    },
    {
     "cell_type": "markdown",
     "metadata": {},
     "source": [
      "Defined as a spectrum image"
     ]
    },
    {
     "cell_type": "code",
     "collapsed": false,
     "input": [
      "specImg = specImg.as_spectrum(0)"
     ],
     "language": "python",
     "metadata": {},
     "outputs": []
    },
    {
     "cell_type": "markdown",
     "metadata": {},
     "source": [
      "Set the signal type"
     ]
    },
    {
     "cell_type": "code",
     "collapsed": false,
     "input": [
      "specImg.set_signal_type('EDS_SEM')"
     ],
     "language": "python",
     "metadata": {},
     "outputs": []
    },
    {
     "cell_type": "heading",
     "level": 3,
     "metadata": {},
     "source": [
      "Calibration"
     ]
    },
    {
     "cell_type": "code",
     "collapsed": false,
     "input": [
      "specImg.metadata"
     ],
     "language": "python",
     "metadata": {},
     "outputs": []
    },
    {
     "cell_type": "code",
     "collapsed": false,
     "input": [
      "specImg.axes_manager.gui()"
     ],
     "language": "python",
     "metadata": {},
     "outputs": []
    },
    {
     "cell_type": "markdown",
     "metadata": {},
     "source": [
      "Calibrate the energy axis and the microscope parameters using the calibration of a single pixel spectrum"
     ]
    },
    {
     "cell_type": "code",
     "collapsed": false,
     "input": [
      "spec = load('1pix.msa')\n",
      "spec.set_signal_type('EDS_SEM')"
     ],
     "language": "python",
     "metadata": {},
     "outputs": []
    },
    {
     "cell_type": "code",
     "collapsed": true,
     "input": [
      "spec.metadata"
     ],
     "language": "python",
     "metadata": {},
     "outputs": []
    },
    {
     "cell_type": "code",
     "collapsed": false,
     "input": [
      "specImg.get_calibration_from(spec)"
     ],
     "language": "python",
     "metadata": {},
     "outputs": []
    },
    {
     "cell_type": "markdown",
     "metadata": {},
     "source": [
      "Calibrate the spatial axes"
     ]
    },
    {
     "cell_type": "code",
     "collapsed": false,
     "input": [
      "specImg.axes_manager.navigation_axes[0].name = 'x'\n",
      "specImg.axes_manager.navigation_axes[1].name = 'y'"
     ],
     "language": "python",
     "metadata": {},
     "outputs": []
    },
    {
     "cell_type": "code",
     "collapsed": false,
     "input": [
      "units_name = '${\\mu}m$'\n",
      "specImg.axes_manager['x'].units = units_name\n",
      "specImg.axes_manager['y'].units = units_name"
     ],
     "language": "python",
     "metadata": {},
     "outputs": []
    },
    {
     "cell_type": "code",
     "collapsed": false,
     "input": [
      "specImg.axes_manager['x'].scale = 0.10\n",
      "specImg.axes_manager['y'].scale = 0.10"
     ],
     "language": "python",
     "metadata": {},
     "outputs": []
    },
    {
     "cell_type": "heading",
     "level": 2,
     "metadata": {},
     "source": [
      "Visualisation"
     ]
    },
    {
     "cell_type": "heading",
     "level": 3,
     "metadata": {},
     "source": [
      "Customising the navigator"
     ]
    },
    {
     "cell_type": "code",
     "collapsed": false,
     "input": [
      "specImg.plot()"
     ],
     "language": "python",
     "metadata": {},
     "outputs": []
    },
    {
     "cell_type": "markdown",
     "metadata": {},
     "source": [
      "Use the SE image associated with the EDS map as navigator"
     ]
    },
    {
     "cell_type": "code",
     "collapsed": false,
     "input": [
      "img = load(\"image010.tif\")\n",
      "dim = specImg.axes_manager.shape\n",
      "imgBin = img.rebin((dim[0],dim[1]))\n",
      "specImg.plot(navigator=imgBin)"
     ],
     "language": "python",
     "metadata": {},
     "outputs": []
    },
    {
     "cell_type": "markdown",
     "metadata": {},
     "source": [
      "Plot as image stack"
     ]
    },
    {
     "cell_type": "code",
     "collapsed": false,
     "input": [
      "imgSpec = specImg.as_image([0,1])\n",
      "imgSpec.plot()"
     ],
     "language": "python",
     "metadata": {},
     "outputs": []
    },
    {
     "cell_type": "markdown",
     "metadata": {},
     "source": [
      "Use the max spectrum as a navigator"
     ]
    },
    {
     "cell_type": "code",
     "collapsed": false,
     "input": [
      "specmax = specImg.max(0).max(0)\n",
      "imgSpec.plot(navigator=specmax)"
     ],
     "language": "python",
     "metadata": {},
     "outputs": []
    },
    {
     "cell_type": "heading",
     "level": 3,
     "metadata": {},
     "source": [
      "X-ray intensity maps"
     ]
    },
    {
     "cell_type": "markdown",
     "metadata": {},
     "source": [
      "Define the elements and the X-ray lines"
     ]
    },
    {
     "cell_type": "code",
     "collapsed": false,
     "input": [
      "specImg.set_elements(('Ni','Ti','Fe'))\n",
      "specImg.add_lines()"
     ],
     "language": "python",
     "metadata": {},
     "outputs": []
    },
    {
     "cell_type": "code",
     "collapsed": false,
     "input": [
      "specImg.metadata"
     ],
     "language": "python",
     "metadata": {},
     "outputs": []
    },
    {
     "cell_type": "code",
     "collapsed": false,
     "input": [
      "specImg.get_lines_intensity(plot_result=True)"
     ],
     "language": "python",
     "metadata": {},
     "outputs": []
    },
    {
     "cell_type": "markdown",
     "metadata": {},
     "source": [
      "The method integrates to obtain the number of X-ray counts below each X-ray peak to obtain the intensity maps. Be carefull: qualitative information, no background substraction, no overalpping-lines deconvolution."
     ]
    },
    {
     "cell_type": "heading",
     "level": 2,
     "metadata": {},
     "source": [
      "Machine learning"
     ]
    },
    {
     "cell_type": "markdown",
     "metadata": {},
     "source": [
      "Change the data type to float32"
     ]
    },
    {
     "cell_type": "code",
     "collapsed": false,
     "input": [
      "specImg.data.dtype"
     ],
     "language": "python",
     "metadata": {},
     "outputs": []
    },
    {
     "cell_type": "code",
     "collapsed": false,
     "input": [
      "specImg.change_dtype('float32')"
     ],
     "language": "python",
     "metadata": {},
     "outputs": []
    },
    {
     "cell_type": "heading",
     "level": 3,
     "metadata": {},
     "source": [
      "PCA"
     ]
    },
    {
     "cell_type": "code",
     "collapsed": false,
     "input": [
      "specImg.decomposition(True)"
     ],
     "language": "python",
     "metadata": {},
     "outputs": []
    },
    {
     "cell_type": "markdown",
     "metadata": {},
     "source": [
      "Explore the components"
     ]
    },
    {
     "cell_type": "code",
     "collapsed": false,
     "input": [
      "specImg.plot_explained_variance_ratio()\n",
      "fig = gcf()\n",
      "fig"
     ],
     "language": "python",
     "metadata": {},
     "outputs": []
    },
    {
     "cell_type": "code",
     "collapsed": false,
     "input": [
      "specImg.plot_decomposition_results()"
     ],
     "language": "python",
     "metadata": {},
     "outputs": []
    },
    {
     "cell_type": "code",
     "collapsed": false,
     "input": [
      "utils.plot.plot_spectra(specImg.get_decomposition_factors()[:5],legend='auto')\n",
      "fig = gcf()\n",
      "fig"
     ],
     "language": "python",
     "metadata": {},
     "outputs": []
    },
    {
     "cell_type": "heading",
     "level": 3,
     "metadata": {},
     "source": [
      "Blind source separation"
     ]
    },
    {
     "cell_type": "markdown",
     "metadata": {},
     "source": [
      "Applies ICA (blind source separation) on the first five component"
     ]
    },
    {
     "cell_type": "code",
     "collapsed": false,
     "input": [
      "specImg.blind_source_separation(5)"
     ],
     "language": "python",
     "metadata": {},
     "outputs": []
    },
    {
     "cell_type": "markdown",
     "metadata": {},
     "source": [
      "Explore the \"source\""
     ]
    },
    {
     "cell_type": "code",
     "collapsed": false,
     "input": [
      "utils.plot.plot_spectra(specImg.get_bss_factors(),legend='auto')\n",
      "fig = gcf()\n",
      "fig"
     ],
     "language": "python",
     "metadata": {},
     "outputs": []
    },
    {
     "cell_type": "code",
     "collapsed": false,
     "input": [
      "specImg.plot_bss_loadings(range(5))"
     ],
     "language": "python",
     "metadata": {},
     "outputs": []
    },
    {
     "cell_type": "heading",
     "level": 3,
     "metadata": {},
     "source": [
      "Data denoising"
     ]
    },
    {
     "cell_type": "markdown",
     "metadata": {},
     "source": [
      "Removing the noise by constructing a model of selected components"
     ]
    },
    {
     "cell_type": "code",
     "collapsed": false,
     "input": [
      "specImgPCA = specImg.get_decomposition_model(5)"
     ],
     "language": "python",
     "metadata": {},
     "outputs": []
    },
    {
     "cell_type": "code",
     "collapsed": false,
     "input": [
      "utils.plot.plot_spectra([specImg[10,10],specImgPCA[10,10]])\n",
      "fig = gcf()\n",
      "fig"
     ],
     "language": "python",
     "metadata": {},
     "outputs": []
    },
    {
     "cell_type": "markdown",
     "metadata": {},
     "source": [
      "Compare the intensity maps before and after denoising"
     ]
    },
    {
     "cell_type": "code",
     "collapsed": false,
     "input": [
      "[s.get_lines_intensity(['Fe_Ka'],plot_result=True) for s in [specImg, specImgPCA]]"
     ],
     "language": "python",
     "metadata": {},
     "outputs": []
    },
    {
     "cell_type": "heading",
     "level": 2,
     "metadata": {},
     "source": [
      "3D Spectrum image"
     ]
    },
    {
     "cell_type": "markdown",
     "metadata": {},
     "source": [
      "Load the 3D data"
     ]
    },
    {
     "cell_type": "code",
     "collapsed": false,
     "input": [
      "axes_name = ['x','y','z']\n",
      "units_name = '${\\mu}m$'\n",
      "EDS_scale = array([0.10,0.10,0.10])\n",
      "specImg3D = load(\"TiFeNi_0*.rpl\",stack = True).as_spectrum(0)\n",
      "specImg3D.set_signal_type('EDS_SEM')\n",
      "specImg3D.get_calibration_from(spec)\n",
      "specImg3D.metadata.General.title = '3D EDS map'\n",
      "for i in range(3):\n",
      "    specImg3D.axes_manager.navigation_axes[i].name = axes_name[i]\n",
      "    specImg3D.axes_manager.navigation_axes[i].units = units_name\n",
      "    specImg3D.axes_manager.navigation_axes[i].scale = EDS_scale[i]"
     ],
     "language": "python",
     "metadata": {},
     "outputs": []
    },
    {
     "cell_type": "markdown",
     "metadata": {},
     "source": [
      "Load the stack of SE images"
     ]
    },
    {
     "cell_type": "code",
     "collapsed": false,
     "input": [
      "SEM_EDS_factor = array([8,8,1])\n",
      "#Load the SE images\n",
      "img3D = load(\"image*.tif\",stack = True)\n",
      "specImg3D.metadata.General.title = 'SE images'\n",
      "for i in range(2):\n",
      "    img3D.axes_manager.signal_axes[i].name = axes_name[i]\n",
      "    img3D.axes_manager.signal_axes[i].units = units_name\n",
      "    img3D.axes_manager.signal_axes[i].scale = EDS_scale[i] / SEM_EDS_factor[i]"
     ],
     "language": "python",
     "metadata": {},
     "outputs": []
    },
    {
     "cell_type": "heading",
     "level": 3,
     "metadata": {},
     "source": [
      "Visualisation"
     ]
    },
    {
     "cell_type": "markdown",
     "metadata": {},
     "source": [
      "Plot the 3D EDS data with SE images as navigator"
     ]
    },
    {
     "cell_type": "code",
     "collapsed": false,
     "input": [
      "dim = specImg3D.axes_manager.shape\n",
      "img3DBin = img3D.rebin((dim[2],dim[0],dim[1]))\n",
      "specImg3D.plot(navigator=img3DBin)"
     ],
     "language": "python",
     "metadata": {},
     "outputs": []
    },
    {
     "cell_type": "markdown",
     "metadata": {},
     "source": [
      "3D Ti Ka intensity map"
     ]
    },
    {
     "cell_type": "code",
     "collapsed": false,
     "input": [
      "specImg3D.get_lines_intensity(['Ti_Ka'],plot_result=True)"
     ],
     "language": "python",
     "metadata": {},
     "outputs": []
    },
    {
     "cell_type": "markdown",
     "metadata": {},
     "source": [
      "Plot an iso-sufaces rendering of the Ni La intensity map using mayavi package"
     ]
    },
    {
     "cell_type": "code",
     "collapsed": false,
     "input": [
      "#Import packages\n",
      "from skimage import filter\n",
      "from mayavi import mlab\n",
      "#Generate the X-ray intensity map of Nickel L alpha\n",
      "NiMap = specImg3D.get_lines_intensity(['Ni_La'])[0]\n",
      "#Reduce the noise\n",
      "NiMapDenoise = filter.tv_denoise(NiMap.data)\n",
      "#Plot isosurfaces\n",
      "mlab.contour3d(NiMapDenoise)\n",
      "mlab.outline()"
     ],
     "language": "python",
     "metadata": {},
     "outputs": []
    }
   ],
   "metadata": {}
  }
 ]
}