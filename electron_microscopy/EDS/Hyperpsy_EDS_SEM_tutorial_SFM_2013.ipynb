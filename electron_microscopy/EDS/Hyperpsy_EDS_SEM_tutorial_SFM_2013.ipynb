{
 "metadata": {
  "name": "",
  "signature": "sha256:c46a3e50935100db7a67058d0d748af7f827669581a8ccfbd0cde2683719e8f7"
 },
 "nbformat": 3,
 "nbformat_minor": 0,
 "worksheets": [
  {
   "cells": [
    {
     "cell_type": "heading",
     "level": 1,
     "metadata": {},
     "source": [
      "Hyperspy Tutorial: processing of EDS mapping "
     ]
    },
    {
     "cell_type": "heading",
     "level": 6,
     "metadata": {},
     "source": [
      "Requirement"
     ]
    },
    {
     "cell_type": "markdown",
     "metadata": {},
     "source": [
      "Hyperspy 0.7.1"
     ]
    },
    {
     "cell_type": "heading",
     "level": 6,
     "metadata": {},
     "source": [
      "Notebook"
     ]
    },
    {
     "cell_type": "markdown",
     "metadata": {},
     "source": [
      "Notebook used for the Hyperspy training at SFMu 2013, Nantes (France) 1-2 July 2013."
     ]
    },
    {
     "cell_type": "heading",
     "level": 6,
     "metadata": {},
     "source": [
      "Data"
     ]
    },
    {
     "cell_type": "markdown",
     "metadata": {},
     "source": [
      "The sample and the data used in this tutorial are described in \n",
      "P. Burdet, et al., Acta Materialia, 61, p. 3090-3098 (2013) (see http://infoscience.epfl.ch/record/185861/)."
     ]
    },
    {
     "cell_type": "code",
     "collapsed": false,
     "input": [
      "#Download the data\n",
      "from urllib import urlretrieve\n",
      "for fname in ['1pix.msa','TiFeNi_010.rpl','TiFeNi_010.raw',\n",
      "              'TiFeNi_011.rpl','TiFeNi_011.raw',\n",
      "              'TiFeNi_012.rpl','TiFeNi_012.raw',\n",
      "              'image010.tif','image011.tif','image012.tif']:\n",
      "    urlretrieve('http://cook.msm.cam.ac.uk//~pb565//EDS_tutorial//'+fname,\n",
      "                fname) "
     ],
     "language": "python",
     "metadata": {},
     "outputs": []
    },
    {
     "cell_type": "heading",
     "level": 6,
     "metadata": {},
     "source": [
      "Author"
     ]
    },
    {
     "cell_type": "markdown",
     "metadata": {},
     "source": [
      "Pierre Burdet"
     ]
    },
    {
     "cell_type": "heading",
     "level": 2,
     "metadata": {},
     "source": [
      "Single Spectrum"
     ]
    },
    {
     "cell_type": "markdown",
     "metadata": {},
     "source": [
      "Load spectrum"
     ]
    },
    {
     "cell_type": "code",
     "collapsed": false,
     "input": [
      "spec = load('1pix.msa')"
     ],
     "language": "python",
     "metadata": {},
     "outputs": []
    },
    {
     "cell_type": "markdown",
     "metadata": {},
     "source": [
      "Set the microscope type"
     ]
    },
    {
     "cell_type": "code",
     "collapsed": false,
     "input": [
      "spec.set_signal_type('EDS_SEM')"
     ],
     "language": "python",
     "metadata": {},
     "outputs": []
    },
    {
     "cell_type": "markdown",
     "metadata": {},
     "source": [
      "Check the parameters"
     ]
    },
    {
     "cell_type": "code",
     "collapsed": false,
     "input": [
      "spec"
     ],
     "language": "python",
     "metadata": {},
     "outputs": []
    },
    {
     "cell_type": "code",
     "collapsed": false,
     "input": [
      "spec.metadata"
     ],
     "language": "python",
     "metadata": {},
     "outputs": []
    },
    {
     "cell_type": "code",
     "collapsed": false,
     "input": [
      "spec.plot()"
     ],
     "language": "python",
     "metadata": {},
     "outputs": []
    },
    {
     "cell_type": "heading",
     "level": 2,
     "metadata": {},
     "source": [
      "2D Spectrum Image"
     ]
    },
    {
     "cell_type": "markdown",
     "metadata": {},
     "source": [
      "Load spectrum image (raw file exported from INCA, Oxford Instrument)"
     ]
    },
    {
     "cell_type": "code",
     "collapsed": false,
     "input": [
      "specImg = load(\"TiFeNi_010.rpl\")"
     ],
     "language": "python",
     "metadata": {},
     "outputs": []
    },
    {
     "cell_type": "code",
     "collapsed": false,
     "input": [
      "specImg"
     ],
     "language": "python",
     "metadata": {},
     "outputs": []
    },
    {
     "cell_type": "markdown",
     "metadata": {},
     "source": [
      "Set as EDS spectrum"
     ]
    },
    {
     "cell_type": "code",
     "collapsed": false,
     "input": [
      "specImg = specImg.as_spectrum(0)\n",
      "specImg.set_signal_type('EDS_SEM')"
     ],
     "language": "python",
     "metadata": {},
     "outputs": []
    },
    {
     "cell_type": "markdown",
     "metadata": {},
     "source": [
      "Calibrate"
     ]
    },
    {
     "cell_type": "code",
     "collapsed": false,
     "input": [
      "specImg.metadata"
     ],
     "language": "python",
     "metadata": {},
     "outputs": []
    },
    {
     "cell_type": "code",
     "collapsed": false,
     "input": [
      "specImg.get_calibration_from(spec)"
     ],
     "language": "python",
     "metadata": {},
     "outputs": []
    },
    {
     "cell_type": "markdown",
     "metadata": {},
     "source": [
      "Set spatial parameters"
     ]
    },
    {
     "cell_type": "code",
     "collapsed": false,
     "input": [
      "specImg.axes_manager.navigation_axes[0].name = 'x'\n",
      "specImg.axes_manager.navigation_axes[1].name = 'y'"
     ],
     "language": "python",
     "metadata": {},
     "outputs": []
    },
    {
     "cell_type": "code",
     "collapsed": false,
     "input": [
      "units_name = '${\\mu}m$'\n",
      "specImg.axes_manager['x'].units = units_name\n",
      "specImg.axes_manager['y'].units = units_name"
     ],
     "language": "python",
     "metadata": {},
     "outputs": []
    },
    {
     "cell_type": "code",
     "collapsed": false,
     "input": [
      "specImg.axes_manager['x'].scale = 0.10\n",
      "specImg.axes_manager['y'].scale = 0.10"
     ],
     "language": "python",
     "metadata": {},
     "outputs": []
    },
    {
     "cell_type": "heading",
     "level": 2,
     "metadata": {},
     "source": [
      "Visualisation"
     ]
    },
    {
     "cell_type": "markdown",
     "metadata": {},
     "source": [
      "Spectrum visualisation"
     ]
    },
    {
     "cell_type": "code",
     "collapsed": false,
     "input": [
      "specImg.plot()"
     ],
     "language": "python",
     "metadata": {},
     "outputs": []
    },
    {
     "cell_type": "markdown",
     "metadata": {},
     "source": [
      "Plot an image, the SE image associated with the EDS map, as a navigator"
     ]
    },
    {
     "cell_type": "code",
     "collapsed": false,
     "input": [
      "img = load(\"image010.tif\")\n",
      "dim = specImg.axes_manager.shape\n",
      "imgBin = img.rebin((dim[0],dim[1]))\n",
      "specImg.plot(navigator=imgBin)"
     ],
     "language": "python",
     "metadata": {},
     "outputs": []
    },
    {
     "cell_type": "markdown",
     "metadata": {},
     "source": [
      "Intensity map visualisation"
     ]
    },
    {
     "cell_type": "code",
     "collapsed": false,
     "input": [
      "imgSpec = specImg.as_image([0,1])\n",
      "imgSpec.plot()"
     ],
     "language": "python",
     "metadata": {},
     "outputs": []
    },
    {
     "cell_type": "markdown",
     "metadata": {},
     "source": [
      "Change the spectrum used for navigation"
     ]
    },
    {
     "cell_type": "code",
     "collapsed": false,
     "input": [
      "specmax = specImg.max(0).max(0)\n",
      "imgSpec.plot(navigator=specmax)"
     ],
     "language": "python",
     "metadata": {},
     "outputs": []
    },
    {
     "cell_type": "markdown",
     "metadata": {},
     "source": [
      "Plot the intensity of some X-ray lines"
     ]
    },
    {
     "cell_type": "code",
     "collapsed": false,
     "input": [
      "specImg.set_elements(('Ni','Ti','Fe'))"
     ],
     "language": "python",
     "metadata": {},
     "outputs": []
    },
    {
     "cell_type": "code",
     "collapsed": false,
     "input": [
      "specImg.metadata"
     ],
     "language": "python",
     "metadata": {},
     "outputs": []
    },
    {
     "cell_type": "code",
     "collapsed": false,
     "input": [
      "specImg.add_lines()"
     ],
     "language": "python",
     "metadata": {},
     "outputs": []
    },
    {
     "cell_type": "code",
     "collapsed": false,
     "input": [
      "specImg.get_lines_intensity(plot_result=True)"
     ],
     "language": "python",
     "metadata": {},
     "outputs": []
    },
    {
     "cell_type": "heading",
     "level": 2,
     "metadata": {},
     "source": [
      "Performing decomposition (PCA)"
     ]
    },
    {
     "cell_type": "code",
     "collapsed": false,
     "input": [
      "specImg.data.dtype"
     ],
     "language": "python",
     "metadata": {},
     "outputs": []
    },
    {
     "cell_type": "code",
     "collapsed": false,
     "input": [
      "specImg.change_dtype('float32')\n",
      "specImg.decomposition(True)"
     ],
     "language": "python",
     "metadata": {},
     "outputs": []
    },
    {
     "cell_type": "markdown",
     "metadata": {},
     "source": [
      "Explore the component"
     ]
    },
    {
     "cell_type": "code",
     "collapsed": false,
     "input": [
      "specImg.plot_explained_variance_ratio()\n",
      "fig = gcf()\n",
      "fig"
     ],
     "language": "python",
     "metadata": {},
     "outputs": []
    },
    {
     "cell_type": "code",
     "collapsed": false,
     "input": [
      "specImg.plot_decomposition_results()"
     ],
     "language": "python",
     "metadata": {},
     "outputs": []
    },
    {
     "cell_type": "code",
     "collapsed": false,
     "input": [
      "utils.plot.plot_spectra(specImg.get_decomposition_factors()[:5],legend='auto')\n",
      "fig = gcf()\n",
      "fig"
     ],
     "language": "python",
     "metadata": {},
     "outputs": []
    },
    {
     "cell_type": "markdown",
     "metadata": {},
     "source": [
      "Applies ICA (blind source separation) on the first five component"
     ]
    },
    {
     "cell_type": "code",
     "collapsed": false,
     "input": [
      "specImg.blind_source_separation(5)"
     ],
     "language": "python",
     "metadata": {},
     "outputs": []
    },
    {
     "cell_type": "code",
     "collapsed": false,
     "input": [
      "utils.plot.plot_spectra(specImg.get_bss_factors(),legend='auto')\n",
      "fig = gcf()\n",
      "fig"
     ],
     "language": "python",
     "metadata": {},
     "outputs": []
    },
    {
     "cell_type": "code",
     "collapsed": false,
     "input": [
      "specImg.plot_bss_loadings(range(5))"
     ],
     "language": "python",
     "metadata": {},
     "outputs": []
    },
    {
     "cell_type": "markdown",
     "metadata": {},
     "source": [
      "Removing the noise"
     ]
    },
    {
     "cell_type": "code",
     "collapsed": false,
     "input": [
      "specImgPCA = specImg.get_decomposition_model(5)"
     ],
     "language": "python",
     "metadata": {},
     "outputs": []
    },
    {
     "cell_type": "code",
     "collapsed": false,
     "input": [
      "utils.plot.plot_spectra([specImg[10,10],specImgPCA[10,10]])\n",
      "fig = gcf()\n",
      "fig"
     ],
     "language": "python",
     "metadata": {},
     "outputs": []
    },
    {
     "cell_type": "code",
     "collapsed": false,
     "input": [
      "specImg.get_lines_intensity(['Ti_Ka'],plot_result=True)\n",
      "specImgPCA.get_lines_intensity(['Ti_Ka'],plot_result=True)"
     ],
     "language": "python",
     "metadata": {},
     "outputs": []
    },
    {
     "cell_type": "heading",
     "level": 2,
     "metadata": {},
     "source": [
      "3D Spectrum image"
     ]
    },
    {
     "cell_type": "markdown",
     "metadata": {},
     "source": [
      "Loading"
     ]
    },
    {
     "cell_type": "code",
     "collapsed": false,
     "input": [
      "axes_name = ['x','y','z']\n",
      "units_name = '${\\mu}m$'\n",
      "EDS_scale = array([0.10,0.10,0.10])\n",
      "specImg3D = load(\"TiFeNi_0*.rpl\",stack = True).as_spectrum(0)\n",
      "specImg3D.set_signal_type('EDS_SEM')\n",
      "specImg3D.get_calibration_from(spec)\n",
      "specImg3D.metadata.General.title = '3D EDS map'\n",
      "for i in range(3):\n",
      "    specImg3D.axes_manager.navigation_axes[i].name = axes_name[i]\n",
      "    specImg3D.axes_manager.navigation_axes[i].units = units_name\n",
      "    specImg3D.axes_manager.navigation_axes[i].scale = EDS_scale[i]"
     ],
     "language": "python",
     "metadata": {},
     "outputs": []
    },
    {
     "cell_type": "markdown",
     "metadata": {},
     "source": [
      "Visualisation"
     ]
    },
    {
     "cell_type": "code",
     "collapsed": false,
     "input": [
      "specImg3D.get_lines_intensity(['Ti_Ka'],plot_result=True)"
     ],
     "language": "python",
     "metadata": {},
     "outputs": []
    },
    {
     "cell_type": "markdown",
     "metadata": {},
     "source": [
      "Loading the images"
     ]
    },
    {
     "cell_type": "code",
     "collapsed": false,
     "input": [
      "SEM_EDS_factor = array([8,8,1])\n",
      "#Load the SE images\n",
      "img3D = load(\"image*.tif\",stack = True)\n",
      "specImg3D.metadata.General.title = 'SE images'\n",
      "for i in range(2):\n",
      "    img3D.axes_manager.signal_axes[i].name = axes_name[i]\n",
      "    img3D.axes_manager.signal_axes[i].units = units_name\n",
      "    img3D.axes_manager.signal_axes[i].scale = EDS_scale[i] / SEM_EDS_factor[i]"
     ],
     "language": "python",
     "metadata": {},
     "outputs": []
    },
    {
     "cell_type": "code",
     "collapsed": false,
     "input": [
      "dim = specImg3D.axes_manager.shape\n",
      "img3DBin = img3D.rebin((dim[2],dim[0],dim[1]))\n",
      "specImg3D.plot(navigator=img3DBin)"
     ],
     "language": "python",
     "metadata": {},
     "outputs": []
    },
    {
     "cell_type": "code",
     "collapsed": false,
     "input": [
      "#Import packages\n",
      "from skimage import filter\n",
      "from mayavi import mlab\n",
      "#Generate the X-ray intensity map of Nickel L alpha\n",
      "NiMap = specImg3D.get_lines_intensity(['Ni_La'])[0]\n",
      "#Reduce the noise\n",
      "NiMapDenoise = filter.denoise_tv_chambolle(NiMap.data)\n",
      "#Plot isosurfaces\n",
      "mlab.contour3d(NiMapDenoise)\n",
      "mlab.outline()"
     ],
     "language": "python",
     "metadata": {},
     "outputs": []
    },
    {
     "cell_type": "code",
     "collapsed": false,
     "input": [],
     "language": "python",
     "metadata": {},
     "outputs": []
    }
   ],
   "metadata": {}
  }
 ]
}