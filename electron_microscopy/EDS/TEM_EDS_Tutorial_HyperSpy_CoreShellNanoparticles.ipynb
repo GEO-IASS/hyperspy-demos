{
 "cells": [
  {
   "cell_type": "markdown",
   "metadata": {},
   "source": [
    "# EDS-TEM quantification of core shell nanoparticles"
   ]
  },
  {
   "cell_type": "markdown",
   "metadata": {},
   "source": [
    "Using machine learning methods, such as independent component analysis (ICA), the composition of embedded nanostructures, such as core-shell nanoparticles, can be accurately measured as demonstrated by D. Roussow et al., Nano Letters, 2015 (see the [full article](https://www.repository.cam.ac.uk/bitstream/handle/1810/248102/Roussouw%20et%20al%202015%20Nano%20Letters.pdf?sequence=1)). Using the same data, this notebook reproduces the main results of this article.\n",
    "\n",
    "This notebook requires:\n",
    "\n",
    "HyperSpy 0.8.5 and all dependencies"
   ]
  },
  {
   "cell_type": "markdown",
   "metadata": {},
   "source": [
    "## Authors"
   ]
  },
  {
   "cell_type": "markdown",
   "metadata": {},
   "source": [
    "Original:\n",
    "\n",
    "13/04/15 Pierre Burdet - Developed for HyperSpy workshop at University of Cambridge\n",
    "\n",
    "Versions:\n",
    "\n",
    "29/05/2016 Duncan Johnstone. Update the syntax for HyperSpy 0.8.5 (Python 3 compatibility)\n",
    "\n",
    "06/08/2015 Francisco de la Peña. Update the syntax for HyperSpy 0.8.1"
   ]
  },
  {
   "cell_type": "markdown",
   "metadata": {},
   "source": [
    "## <a id='top'></a> Contents"
   ]
  },
  {
   "cell_type": "markdown",
   "metadata": {},
   "source": [
    "1. <a href='dat'> Specimen & Data</a>\n",
    "2. <a href='#loa'> Loading</a>\n",
    "3. <a href='#bss'> Blind source separation of core/shell nanoparticles</a>\n",
    "4. <a href='#bare'> Representative spectrum from bare cores</a>\n",
    "5. <a href='#com'> Comparison and quantification</a>\n",
    "6. <a href='#fur'> Going futher: Isolating the nanoparticles</a>"
   ]
  },
  {
   "cell_type": "markdown",
   "metadata": {},
   "source": [
    "# <a id='dat'></a> 1. Specimen & Data"
   ]
  },
  {
   "cell_type": "markdown",
   "metadata": {},
   "source": [
    "The sample and the data used in this tutorial are described in \n",
    "D. Roussow, et al., Nano Letters, In Press (2015) (see the [full article](https://www.repository.cam.ac.uk/bitstream/handle/1810/248102/Roussouw%20et%20al%202015%20Nano%20Letters.pdf?sequence=1))."
   ]
  },
  {
   "cell_type": "markdown",
   "metadata": {},
   "source": [
    "FePt@Fe$_3$O$_4$ core-shell nanoparticles are investigated with an EDS/TEM experiment (FEI Osiris TEM, 4 EDS detectors). The composition of the core can be measured with ICA (see figure 1c). To prove the accuracy of the results, measurments on bare FePt bimetallic nanoparticles from a synthesis prior to the shell addition step are used."
   ]
  },
  {
   "cell_type": "markdown",
   "metadata": {},
   "source": [
    "<img src=\"images/core_shell.png\" style=\"height:350px;\">\n",
    "Figure 1: (a) A spectrum image obtained from a cluster of core-shell nanoparticles. (b) The nanoparticles are comprised of a bi-metallic Pt/Fe core surrounded by an iron oxide shell on a carbon support. (c) ICA decomposes the mixed EDX signals into components representing the core (IC#0), shell (IC#1) and support (IC#2)."
   ]
  },
  {
   "cell_type": "code",
   "execution_count": 1,
   "metadata": {
    "collapsed": false
   },
   "outputs": [],
   "source": [
    "#Download the data (1MB)\n",
    "from urllib.request import urlretrieve, urlopen\n",
    "fnames= ['bare_core.hdf5', 'core_shell.hdf5']   \n",
    "url = 'http://cook.msm.cam.ac.uk//~hyperspy//EDS_tutorial//'\n",
    "files = [urlretrieve(url + fname, fname) for fname in fnames]"
   ]
  },
  {
   "cell_type": "markdown",
   "metadata": {},
   "source": [
    "# <a id='loa'></a> 2. Loading"
   ]
  },
  {
   "cell_type": "markdown",
   "metadata": {},
   "source": [
    "Import HyperSpy, numpy and matplotlib libraries"
   ]
  },
  {
   "cell_type": "code",
   "execution_count": 2,
   "metadata": {
    "collapsed": false
   },
   "outputs": [
    {
     "name": "stdout",
     "output_type": "stream",
     "text": [
      "\n",
      "Writing the config file\n"
     ]
    }
   ],
   "source": [
    "%matplotlib qt4\n",
    "import hyperspy.api as hs\n",
    "import numpy as np\n",
    "import matplotlib.pyplot as plt"
   ]
  },
  {
   "cell_type": "markdown",
   "metadata": {},
   "source": [
    "For a nice on-line display (optional)"
   ]
  },
  {
   "cell_type": "code",
   "execution_count": null,
   "metadata": {
    "collapsed": false
   },
   "outputs": [],
   "source": [
    "%matplotlib inline"
   ]
  },
  {
   "cell_type": "markdown",
   "metadata": {},
   "source": [
    "<a href='#top'> Table of contents</a>"
   ]
  },
  {
   "cell_type": "markdown",
   "metadata": {},
   "source": [
    "Load the spectrum images of the bare seeds and the core shell nanoparticles."
   ]
  },
  {
   "cell_type": "code",
   "execution_count": 3,
   "metadata": {
    "collapsed": false
   },
   "outputs": [
    {
     "name": "stderr",
     "output_type": "stream",
     "text": [
      "/home/dnj23/hyperspy/hyperspy/signals.py:54: VisibleDeprecationWarning: The Spectrum class will be deprecated from version 1.0.0 and replaced with Signal1D\n",
      "  VisibleDeprecationWarning)\n"
     ]
    }
   ],
   "source": [
    "c = hs.load('bare_core.hdf5')\n",
    "cs = hs.load('core_shell.hdf5')"
   ]
  },
  {
   "cell_type": "code",
   "execution_count": 4,
   "metadata": {
    "collapsed": false
   },
   "outputs": [
    {
     "data": {
      "text/plain": [
       "├── Acquisition_instrument\n",
       "│   └── TEM\n",
       "│       ├── Detector\n",
       "│       │   └── EDS\n",
       "│       │       ├── azimuth_angle = 0.0\n",
       "│       │       ├── elevation_angle = 35.0\n",
       "│       │       └── energy_resolution_MnKa = 133.31\n",
       "│       ├── acquisition_mode = STEM\n",
       "│       ├── beam_energy = 200.0\n",
       "│       ├── microscope = Microscope TecnaiOsiris 200 kV D658 AnalyticalTwin\n",
       "│       └── tilt_stage = 0.0\n",
       "├── General\n",
       "│   ├── date = 14.10.2014\n",
       "│   └── title = Bare core\n",
       "├── Sample\n",
       "│   ├── elements = array(['Fe', 'Pt'], \n",
       "      dtype='<U2')\n",
       "│   └── xray_lines = array(['Fe_Ka', 'Pt_La'], \n",
       "      dtype='<U5')\n",
       "└── Signal\n",
       "    ├── binned = True\n",
       "    ├── record_by = spectrum\n",
       "    ├── signal_origin = \n",
       "    └── signal_type = EDS_TEM"
      ]
     },
     "execution_count": 4,
     "metadata": {},
     "output_type": "execute_result"
    }
   ],
   "source": [
    "c.metadata"
   ]
  },
  {
   "cell_type": "markdown",
   "metadata": {},
   "source": [
    "Plot the intensity of Fe K${\\alpha}$ and Pt L${\\alpha}$."
   ]
  },
  {
   "cell_type": "code",
   "execution_count": 5,
   "metadata": {
    "collapsed": false
   },
   "outputs": [
    {
     "name": "stderr",
     "output_type": "stream",
     "text": [
      "/home/dnj23/hyperspy/hyperspy/signals.py:54: VisibleDeprecationWarning: The Spectrum class will be deprecated from version 1.0.0 and replaced with Signal1D\n",
      "  VisibleDeprecationWarning)\n",
      "/home/dnj23/hyperspy/hyperspy/signals.py:126: VisibleDeprecationWarning: The Signal class will be deprecated from version 1.0.0 and replaced with BaseSignal\n",
      "  VisibleDeprecationWarning)\n"
     ]
    }
   ],
   "source": [
    "axes = hs.plot.plot_images(c.get_lines_intensity() + cs.get_lines_intensity(),\n",
    "                           scalebar='all', axes_decor=None, per_row=2, cmap='RdBu')"
   ]
  },
  {
   "cell_type": "markdown",
   "metadata": {},
   "source": [
    "## <a id='bss'></a> 3. Blind source separation of core/shell nanoparticles"
   ]
  },
  {
   "cell_type": "markdown",
   "metadata": {},
   "source": [
    "<a href='#top'> Table of contents</a>"
   ]
  },
  {
   "cell_type": "markdown",
   "metadata": {},
   "source": [
    "Apply blind source separation (ICA) to obtain a factor (spectrum) corresponding to the core."
   ]
  },
  {
   "cell_type": "code",
   "execution_count": 6,
   "metadata": {
    "collapsed": false
   },
   "outputs": [
    {
     "name": "stderr",
     "output_type": "stream",
     "text": [
      "/home/dnj23/hyperspy/hyperspy/signals.py:54: VisibleDeprecationWarning: The Spectrum class will be deprecated from version 1.0.0 and replaced with Signal1D\n",
      "  VisibleDeprecationWarning)\n",
      "/home/dnj23/hyperspy/hyperspy/signals.py:126: VisibleDeprecationWarning: The Signal class will be deprecated from version 1.0.0 and replaced with BaseSignal\n",
      "  VisibleDeprecationWarning)\n"
     ]
    },
    {
     "name": "stdout",
     "output_type": "stream",
     "text": [
      "\n",
      "Scaling the data to normalize the (presumably) Poissonian noise\n",
      "\n",
      "Performing decomposition analysis\n",
      "Undoing data pre-treatments\n"
     ]
    }
   ],
   "source": [
    "cs.change_dtype('float')\n",
    "cs.decomposition()"
   ]
  },
  {
   "cell_type": "code",
   "execution_count": 7,
   "metadata": {
    "collapsed": false
   },
   "outputs": [],
   "source": [
    "ax = cs.plot_explained_variance_ratio()"
   ]
  },
  {
   "cell_type": "markdown",
   "metadata": {},
   "source": [
    "ICA on the three first components."
   ]
  },
  {
   "cell_type": "code",
   "execution_count": 8,
   "metadata": {
    "collapsed": false
   },
   "outputs": [
    {
     "name": "stdout",
     "output_type": "stream",
     "text": [
      "IC 0 reversed\n",
      "IC 2 reversed\n"
     ]
    },
    {
     "name": "stderr",
     "output_type": "stream",
     "text": [
      "/home/dnj23/hyperspy/hyperspy/signals.py:54: VisibleDeprecationWarning: The Spectrum class will be deprecated from version 1.0.0 and replaced with Signal1D\n",
      "  VisibleDeprecationWarning)\n"
     ]
    }
   ],
   "source": [
    "cs.blind_source_separation(3)"
   ]
  },
  {
   "cell_type": "code",
   "execution_count": 9,
   "metadata": {
    "collapsed": false
   },
   "outputs": [
    {
     "name": "stderr",
     "output_type": "stream",
     "text": [
      "/home/dnj23/hyperspy/hyperspy/signals.py:126: VisibleDeprecationWarning: The Signal class will be deprecated from version 1.0.0 and replaced with BaseSignal\n",
      "  VisibleDeprecationWarning)\n"
     ]
    }
   ],
   "source": [
    "axes = hs.plot.plot_images(cs.get_bss_loadings(), axes_decor=None, cmap='RdBu')"
   ]
  },
  {
   "cell_type": "code",
   "execution_count": 10,
   "metadata": {
    "collapsed": false
   },
   "outputs": [
    {
     "name": "stderr",
     "output_type": "stream",
     "text": [
      "/home/dnj23/hyperspy/hyperspy/signals.py:54: VisibleDeprecationWarning: The Spectrum class will be deprecated from version 1.0.0 and replaced with Signal1D\n",
      "  VisibleDeprecationWarning)\n",
      "/home/dnj23/anaconda3/lib/python3.5/site-packages/matplotlib/__init__.py:892: UserWarning: axes.color_cycle is deprecated and replaced with axes.prop_cycle; please use the latter.\n",
      "  warnings.warn(self.msg_depr % (key, alt_key))\n",
      "/home/dnj23/hyperspy/hyperspy/signal.py:1331: VisibleDeprecationWarning: Indexing the `Signal` class is deprecated and will be removed in Hyperspy 1.0. Please use `.isig` and/or `.inav` instead.\n",
      "  VisibleDeprecationWarning)\n"
     ]
    }
   ],
   "source": [
    "axes = hs.plot.plot_spectra(cs.get_bss_factors())"
   ]
  },
  {
   "cell_type": "markdown",
   "metadata": {},
   "source": [
    "The first component corresponds to the core."
   ]
  },
  {
   "cell_type": "code",
   "execution_count": 11,
   "metadata": {
    "collapsed": false
   },
   "outputs": [
    {
     "name": "stderr",
     "output_type": "stream",
     "text": [
      "/home/dnj23/hyperspy/hyperspy/signals.py:54: VisibleDeprecationWarning: The Spectrum class will be deprecated from version 1.0.0 and replaced with Signal1D\n",
      "  VisibleDeprecationWarning)\n"
     ]
    }
   ],
   "source": [
    "s_bss = cs.get_bss_factors().inav[0]"
   ]
  },
  {
   "cell_type": "markdown",
   "metadata": {},
   "source": [
    "## <a id='bare'></a> 4. Representative spectrum from bare cores"
   ]
  },
  {
   "cell_type": "markdown",
   "metadata": {},
   "source": [
    "<a href='#top'> Table of contents</a>"
   ]
  },
  {
   "cell_type": "markdown",
   "metadata": {},
   "source": [
    "To obtain a representative spectrum of the bare nanoparticles, the low intensity of Pt L${\\alpha}$ is masked."
   ]
  },
  {
   "cell_type": "code",
   "execution_count": 12,
   "metadata": {
    "collapsed": false
   },
   "outputs": [
    {
     "name": "stderr",
     "output_type": "stream",
     "text": [
      "/home/dnj23/hyperspy/hyperspy/signals.py:54: VisibleDeprecationWarning: The Spectrum class will be deprecated from version 1.0.0 and replaced with Signal1D\n",
      "  VisibleDeprecationWarning)\n",
      "/home/dnj23/hyperspy/hyperspy/signals.py:126: VisibleDeprecationWarning: The Signal class will be deprecated from version 1.0.0 and replaced with BaseSignal\n",
      "  VisibleDeprecationWarning)\n"
     ]
    }
   ],
   "source": [
    "pt_la = c.get_lines_intensity(['Pt_La'])[0]\n",
    "mask = pt_la > 6"
   ]
  },
  {
   "cell_type": "code",
   "execution_count": 13,
   "metadata": {
    "collapsed": false
   },
   "outputs": [],
   "source": [
    "axes = hs.plot.plot_images([mask, pt_la * mask], axes_decor=None, colorbar=None,\n",
    "                           label=['Mask', 'Pt L${\\\\alpha}$ intensity'], cmap='RdBu')"
   ]
  },
  {
   "cell_type": "markdown",
   "metadata": {},
   "source": [
    "To apply the mask, the navigation dimensions of the mask must be manipulated to match the navigation dimensions of the EDS spectrum image. This is achived crudely via first generating a mask using the built in vacuum_mask() method and then overwriting the data with the mask generated above."
   ]
  },
  {
   "cell_type": "code",
   "execution_count": 14,
   "metadata": {
    "collapsed": false
   },
   "outputs": [
    {
     "name": "stderr",
     "output_type": "stream",
     "text": [
      "/home/dnj23/hyperspy/hyperspy/signals.py:54: VisibleDeprecationWarning: The Spectrum class will be deprecated from version 1.0.0 and replaced with Signal1D\n",
      "  VisibleDeprecationWarning)\n",
      "/home/dnj23/hyperspy/hyperspy/signals.py:126: VisibleDeprecationWarning: The Signal class will be deprecated from version 1.0.0 and replaced with BaseSignal\n",
      "  VisibleDeprecationWarning)\n"
     ]
    }
   ],
   "source": [
    "c_mask = c.vacuum_mask()\n",
    "c_mask.data = mask.data"
   ]
  },
  {
   "cell_type": "markdown",
   "metadata": {},
   "source": [
    "The sum over the particles is used as a bare core spectrum."
   ]
  },
  {
   "cell_type": "code",
   "execution_count": 15,
   "metadata": {
    "collapsed": false
   },
   "outputs": [
    {
     "name": "stderr",
     "output_type": "stream",
     "text": [
      "/home/dnj23/hyperspy/hyperspy/signals.py:54: VisibleDeprecationWarning: The Spectrum class will be deprecated from version 1.0.0 and replaced with Signal1D\n",
      "  VisibleDeprecationWarning)\n"
     ]
    }
   ],
   "source": [
    "s_bare = (c * c_mask).sum(0).sum(0)"
   ]
  },
  {
   "cell_type": "markdown",
   "metadata": {},
   "source": [
    "## <a id='com'></a> 5. Comparison and quantification"
   ]
  },
  {
   "cell_type": "markdown",
   "metadata": {},
   "source": [
    "<a href='#top'> Table of contents</a>"
   ]
  },
  {
   "cell_type": "markdown",
   "metadata": {},
   "source": [
    "Stack together the spectrum of bare particles and the first ICA component."
   ]
  },
  {
   "cell_type": "code",
   "execution_count": 16,
   "metadata": {
    "collapsed": false
   },
   "outputs": [
    {
     "name": "stderr",
     "output_type": "stream",
     "text": [
      "/home/dnj23/hyperspy/hyperspy/signals.py:54: VisibleDeprecationWarning: The Spectrum class will be deprecated from version 1.0.0 and replaced with Signal1D\n",
      "  VisibleDeprecationWarning)\n"
     ]
    }
   ],
   "source": [
    "s_bare.change_dtype('float')\n",
    "s = hs.stack([s_bare, s_bss], new_axis_name='Bare or BSS')\n",
    "s.metadata.General.title = 'Bare or BSS'"
   ]
  },
  {
   "cell_type": "code",
   "execution_count": 17,
   "metadata": {
    "collapsed": false
   },
   "outputs": [
    {
     "name": "stderr",
     "output_type": "stream",
     "text": [
      "/home/dnj23/anaconda3/lib/python3.5/site-packages/matplotlib/__init__.py:892: UserWarning: axes.color_cycle is deprecated and replaced with axes.prop_cycle; please use the latter.\n",
      "  warnings.warn(self.msg_depr % (key, alt_key))\n",
      "/home/dnj23/hyperspy/hyperspy/signals.py:54: VisibleDeprecationWarning: The Spectrum class will be deprecated from version 1.0.0 and replaced with Signal1D\n",
      "  VisibleDeprecationWarning)\n"
     ]
    }
   ],
   "source": [
    "axes = hs.plot.plot_spectra(s, style='mosaic', legend=['Bare particles', 'BSS #0'])"
   ]
  },
  {
   "cell_type": "markdown",
   "metadata": {},
   "source": [
    "X-ray intensities measurement with background subtraction."
   ]
  },
  {
   "cell_type": "code",
   "execution_count": 18,
   "metadata": {
    "collapsed": false
   },
   "outputs": [],
   "source": [
    "w = s.estimate_background_windows()"
   ]
  },
  {
   "cell_type": "code",
   "execution_count": 19,
   "metadata": {
    "collapsed": false
   },
   "outputs": [
    {
     "name": "stderr",
     "output_type": "stream",
     "text": [
      "/home/dnj23/hyperspy/hyperspy/signals.py:54: VisibleDeprecationWarning: The Spectrum class will be deprecated from version 1.0.0 and replaced with Signal1D\n",
      "  VisibleDeprecationWarning)\n",
      "/home/dnj23/hyperspy/hyperspy/signals.py:126: VisibleDeprecationWarning: The Signal class will be deprecated from version 1.0.0 and replaced with BaseSignal\n",
      "  VisibleDeprecationWarning)\n",
      "/home/dnj23/anaconda3/lib/python3.5/site-packages/matplotlib/__init__.py:892: UserWarning: axes.color_cycle is deprecated and replaced with axes.prop_cycle; please use the latter.\n",
      "  warnings.warn(self.msg_depr % (key, alt_key))\n"
     ]
    }
   ],
   "source": [
    "s.plot(background_windows=w)"
   ]
  },
  {
   "cell_type": "markdown",
   "metadata": {},
   "source": [
    "Refinement of the windows position."
   ]
  },
  {
   "cell_type": "code",
   "execution_count": 20,
   "metadata": {
    "collapsed": false
   },
   "outputs": [
    {
     "data": {
      "text/plain": [
       "array([[ 5.99000266,  6.12796844,  6.67983156,  6.81779734],\n",
       "       [ 8.95253846,  9.11572564,  9.76847436,  9.93166154]])"
      ]
     },
     "execution_count": 20,
     "metadata": {},
     "output_type": "execute_result"
    }
   ],
   "source": [
    "w"
   ]
  },
  {
   "cell_type": "code",
   "execution_count": 21,
   "metadata": {
    "collapsed": false
   },
   "outputs": [],
   "source": [
    "w[1, 0] = 8.44\n",
    "w[1, 1] = 8.65"
   ]
  },
  {
   "cell_type": "code",
   "execution_count": 23,
   "metadata": {
    "collapsed": false
   },
   "outputs": [
    {
     "name": "stderr",
     "output_type": "stream",
     "text": [
      "/home/dnj23/anaconda3/lib/python3.5/site-packages/matplotlib/__init__.py:892: UserWarning: axes.color_cycle is deprecated and replaced with axes.prop_cycle; please use the latter.\n",
      "  warnings.warn(self.msg_depr % (key, alt_key))\n"
     ]
    }
   ],
   "source": [
    "s.plot(background_windows=w, navigator='slider')"
   ]
  },
  {
   "cell_type": "code",
   "execution_count": 22,
   "metadata": {
    "collapsed": false
   },
   "outputs": [
    {
     "name": "stderr",
     "output_type": "stream",
     "text": [
      "/home/dnj23/hyperspy/hyperspy/signals.py:54: VisibleDeprecationWarning: The Spectrum class will be deprecated from version 1.0.0 and replaced with Signal1D\n",
      "  VisibleDeprecationWarning)\n",
      "/home/dnj23/hyperspy/hyperspy/signals.py:126: VisibleDeprecationWarning: The Signal class will be deprecated from version 1.0.0 and replaced with BaseSignal\n",
      "  VisibleDeprecationWarning)\n"
     ]
    }
   ],
   "source": [
    "sI = s.get_lines_intensity(background_windows=w)"
   ]
  },
  {
   "cell_type": "markdown",
   "metadata": {},
   "source": [
    "Set up the kfactors for Fe K${\\alpha}$ and Pt L${\\alpha}$."
   ]
  },
  {
   "cell_type": "code",
   "execution_count": 23,
   "metadata": {
    "collapsed": false
   },
   "outputs": [],
   "source": [
    "#From Brucker software (Esprit)\n",
    "kfactors = [1.450226, 5.075602]"
   ]
  },
  {
   "cell_type": "markdown",
   "metadata": {},
   "source": [
    "Quantify with Cliff Lorimer."
   ]
  },
  {
   "cell_type": "code",
   "execution_count": 25,
   "metadata": {
    "collapsed": false
   },
   "outputs": [
    {
     "name": "stderr",
     "output_type": "stream",
     "text": [
      "/home/dnj23/hyperspy/hyperspy/signals.py:54: VisibleDeprecationWarning: The Spectrum class will be deprecated from version 1.0.0 and replaced with Signal1D\n",
      "  VisibleDeprecationWarning)\n",
      "/home/dnj23/hyperspy/hyperspy/signals.py:126: VisibleDeprecationWarning: The Signal class will be deprecated from version 1.0.0 and replaced with BaseSignal\n",
      "  VisibleDeprecationWarning)\n"
     ]
    }
   ],
   "source": [
    "composition = s.quantification(intensities=sI, kfactors=kfactors,\n",
    "                 plot_result=True, composition_units='atomic')"
   ]
  },
  {
   "cell_type": "markdown",
   "metadata": {},
   "source": [
    "## <a id='fur'></a> 6. Going further"
   ]
  },
  {
   "cell_type": "markdown",
   "metadata": {},
   "source": [
    "<a href='#top'> Table of contents</a>"
   ]
  },
  {
   "cell_type": "markdown",
   "metadata": {},
   "source": [
    "Further image processing with [scikit-image](http://scikit-image.org/) and [scipy](http://www.scipy.org/). Apply a watershed transformation to isolate the nanoparticles."
   ]
  },
  {
   "cell_type": "markdown",
   "metadata": {},
   "source": [
    "- Transform the mask into a distance map.\n",
    "- Find local maxima.\n",
    "- Apply the watershed to the distance map using the local maximum as seed (markers).\n",
    "\n",
    "Adapted from this scikit-image [example](http://scikit-image.org/docs/dev/auto_examples/plot_watershed.html)."
   ]
  },
  {
   "cell_type": "code",
   "execution_count": 26,
   "metadata": {
    "collapsed": false
   },
   "outputs": [],
   "source": [
    "from scipy.ndimage import distance_transform_edt, label\n",
    "from skimage.morphology import watershed\n",
    "from skimage.feature import peak_local_max"
   ]
  },
  {
   "cell_type": "code",
   "execution_count": 27,
   "metadata": {
    "collapsed": false
   },
   "outputs": [],
   "source": [
    "distance = distance_transform_edt(mask.data)\n",
    "local_maxi = peak_local_max(distance, indices=False,\n",
    "                            min_distance=2, labels=mask.data)\n",
    "labels = watershed(-distance, markers=label(local_maxi)[0],\n",
    "                   mask=mask.data)"
   ]
  },
  {
   "cell_type": "code",
   "execution_count": 28,
   "metadata": {
    "collapsed": false
   },
   "outputs": [
    {
     "name": "stderr",
     "output_type": "stream",
     "text": [
      "/home/dnj23/hyperspy/hyperspy/signals.py:83: VisibleDeprecationWarning: The Image class will be deprecated from version 1.0.0 and replaced with Signal2D\n",
      "  VisibleDeprecationWarning)\n"
     ]
    }
   ],
   "source": [
    "axes = hs.plot.plot_images(\n",
    "    [pt_la, mask, hs.signals.Image(distance), hs.signals.Image(labels)],\n",
    "    axes_decor='off', per_row=2, colorbar=None, cmap='RdYlBu_r',\n",
    "    label=['Pt L${\\\\alpha}$ intensity', 'Mask',\n",
    "           'Distances', 'Separated particles'])"
   ]
  },
  {
   "cell_type": "code",
   "execution_count": null,
   "metadata": {
    "collapsed": true
   },
   "outputs": [],
   "source": []
  }
 ],
 "metadata": {
  "kernelspec": {
   "display_name": "Python 3",
   "language": "python",
   "name": "python3"
  },
  "language_info": {
   "codemirror_mode": {
    "name": "ipython",
    "version": 3
   },
   "file_extension": ".py",
   "mimetype": "text/x-python",
   "name": "python",
   "nbconvert_exporter": "python",
   "pygments_lexer": "ipython3",
   "version": "3.5.1"
  }
 },
 "nbformat": 4,
 "nbformat_minor": 0
}
